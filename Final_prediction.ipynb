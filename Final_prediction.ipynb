{
 "cells": [
  {
   "cell_type": "markdown",
   "id": "bf21b29a-1c32-45c7-b24f-c746864f28a0",
   "metadata": {},
   "source": [
    "## Data augmentation and training "
   ]
  },
  {
   "cell_type": "code",
   "execution_count": 281,
   "id": "992188a5-aaf8-42db-801d-7d04466c93a0",
   "metadata": {},
   "outputs": [],
   "source": [
    "import pandas as pd\n",
    "import numpy as np\n",
    "from sklearn.ensemble import RandomForestRegressor,AdaBoostRegressor,VotingRegressor\n",
    "from sklearn.metrics import mean_squared_error,mean_absolute_error,r2_score,median_absolute_error\n",
    "import matplotlib.pyplot as plt\n",
    "from sklearn.preprocessing import StandardScaler, OneHotEncoder\n",
    "from sklearn.model_selection import train_test_split\n",
    "from xgboost import XGBRegressor\n",
    "import smogn\n",
    "import statsmodels.api as sm\n",
    "from math import sqrt\n",
    "from scipy.stats import norm "
   ]
  },
  {
   "cell_type": "code",
   "execution_count": 218,
   "id": "fbf97f97-e83d-443e-bcf3-e0e0c960b3f8",
   "metadata": {},
   "outputs": [],
   "source": [
    "df = pd.read_csv(\"imputation_test.csv\")\n",
    "df = df.round(5)\n",
    "df_for_training = df[~df[\"size\"].isna()]\n",
    "df_for_training = df_for_training.dropna()"
   ]
  },
  {
   "cell_type": "code",
   "execution_count": 219,
   "id": "067e0180-7af5-4173-aaf9-85a1383bce7f",
   "metadata": {},
   "outputs": [],
   "source": [
    "columns_to_drop = ['hh_id','month','year','lusage','mozip','children',\n",
    " 'owner',\n",
    " 'income6',\n",
    " 'hhsize3',\n",
    " 'income7',\n",
    " 'hhsize4',\n",
    " 'income3',\n",
    " 'income4',\n",
    " 'hhsize5',\n",
    " 'income9',\n",
    " 'hhsize5plus',\n",
    " 'income2',\n",
    " 'income8']\n",
    "df_for_training = df_for_training.drop(columns=columns_to_drop)"
   ]
  },
  {
   "cell_type": "code",
   "execution_count": 220,
   "id": "af0b98e0-5d60-4324-911f-86e4de70c308",
   "metadata": {},
   "outputs": [],
   "source": [
    "df_for_training = df_for_training.drop_duplicates().reset_index(drop = True)"
   ]
  },
  {
   "cell_type": "code",
   "execution_count": 221,
   "id": "bb30cc10-67d6-4809-93a0-83e33e03ddb6",
   "metadata": {},
   "outputs": [],
   "source": [
    "X,y = df_for_training.iloc[:,:-1],df_for_training.iloc[:,-1]\n",
    "X_train, X_test, y_train , y_test = train_test_split(X, y, test_size=0.3, random_state=42)"
   ]
  },
  {
   "cell_type": "code",
   "execution_count": 243,
   "id": "fdaa1685-dd81-451f-8b86-39bebd024f45",
   "metadata": {},
   "outputs": [],
   "source": [
    "train_data = pd.concat([X_train, y_train], axis=1)\n",
    "test_data = pd.concat([X_test, y_test], axis=1)"
   ]
  },
  {
   "cell_type": "code",
   "execution_count": 294,
   "id": "baee0565-fac0-4fb0-b0c4-a86487c4268a",
   "metadata": {},
   "outputs": [],
   "source": [
    "test_data = test_data[~test_data[\"size\"].isin(train_data[\"size\"])]"
   ]
  },
  {
   "cell_type": "code",
   "execution_count": 244,
   "id": "4b02e2bb-dd36-4264-b2de-8b95198657a5",
   "metadata": {},
   "outputs": [],
   "source": [
    "train_smogn_under_1000 = train_data[(train_data[\"size\"] >= 100) & (train_data[\"size\"] < 1000)]\n",
    "train_smogn_under_1000 = train_smogn_under_1000.drop_duplicates(subset = [\"size\"])"
   ]
  },
  {
   "cell_type": "code",
   "execution_count": 246,
   "id": "17fdd47c-fd7b-4a34-bcc2-55ea9b69cfff",
   "metadata": {},
   "outputs": [
    {
     "name": "stdout",
     "output_type": "stream",
     "text": [
      "517\n"
     ]
    },
    {
     "name": "stderr",
     "output_type": "stream",
     "text": [
      "dist_matrix: 100%|##########| 89/89 [00:02<00:00, 39.66it/s]\n",
      "synth_matrix: 100%|##########| 89/89 [00:00<00:00, 396.11it/s]\n",
      "r_index: 100%|##########| 17/17 [00:00<00:00, 816.32it/s]"
     ]
    },
    {
     "name": "stdout",
     "output_type": "stream",
     "text": [
      "1015\n"
     ]
    },
    {
     "name": "stderr",
     "output_type": "stream",
     "text": [
      "\n"
     ]
    }
   ],
   "source": [
    "while(True):\n",
    "    print(len(train_smogn_under_1000))\n",
    "    if len(train_smogn_under_1000) > 1000:\n",
    "        break\n",
    "    train_smogn_under_1000  = smogn.smoter(\n",
    "        data=train_smogn_under_1000 .dropna().reset_index(drop=True),\n",
    "        y=\"size\",\n",
    "        samp_method = 'extreme',\n",
    "        rel_thres=0.1, \n",
    "        rel_coef = .4\n",
    "    )"
   ]
  },
  {
   "cell_type": "code",
   "execution_count": 247,
   "id": "2e6c6b46-f0da-4a52-849c-24bd4d6e61ad",
   "metadata": {},
   "outputs": [],
   "source": [
    "train_smogn_under_100 = train_data[(train_data[\"size\"] < 100) ]\n",
    "train_smogn_under_100 = train_smogn_under_100.drop_duplicates(subset = [\"size\"]) "
   ]
  },
  {
   "cell_type": "code",
   "execution_count": 248,
   "id": "1ab2a10b-259c-4a1f-9685-776c6dfaaa17",
   "metadata": {},
   "outputs": [
    {
     "name": "stdout",
     "output_type": "stream",
     "text": [
      "71\n"
     ]
    },
    {
     "name": "stderr",
     "output_type": "stream",
     "text": [
      "dist_matrix: 100%|##########| 11/11 [00:00<00:00, 230.07it/s]\n",
      "synth_matrix: 100%|##########| 11/11 [00:00<00:00, 330.76it/s]\n",
      "r_index: 100%|##########| 8/8 [00:00<00:00, 632.57it/s]\n"
     ]
    },
    {
     "name": "stdout",
     "output_type": "stream",
     "text": [
      "143\n"
     ]
    },
    {
     "name": "stderr",
     "output_type": "stream",
     "text": [
      "dist_matrix: 100%|##########| 33/33 [00:00<00:00, 102.44it/s]\n",
      "synth_matrix: 100%|##########| 33/33 [00:00<00:00, 753.64it/s]"
     ]
    },
    {
     "name": "stdout",
     "output_type": "stream",
     "text": [
      "238\n"
     ]
    },
    {
     "name": "stderr",
     "output_type": "stream",
     "text": [
      "\n"
     ]
    }
   ],
   "source": [
    "while(True):\n",
    "    print(len(train_smogn_under_100))\n",
    "    if len(train_smogn_under_100) > 200:\n",
    "        break\n",
    "    train_smogn_under_100  = smogn.smoter(\n",
    "        data=train_smogn_under_100.dropna().reset_index(drop=True),\n",
    "        y=\"size\",\n",
    "        samp_method = 'extreme',\n",
    "        rel_thres=0.1, \n",
    "        rel_coef = .4\n",
    "    )"
   ]
  },
  {
   "cell_type": "code",
   "execution_count": 253,
   "id": "fcaa272b-1d6e-434d-ade7-22c8628368bc",
   "metadata": {},
   "outputs": [],
   "source": [
    "train_smogn_over_10000 = train_data[(train_data[\"size\"] > 10000) ]\n",
    "train_smogn_over_10000 = train_smogn_over_10000.drop_duplicates(subset = [\"size\"]) "
   ]
  },
  {
   "cell_type": "code",
   "execution_count": 254,
   "id": "ad5a8f51-7559-4be2-b67a-1f619b75e9f0",
   "metadata": {},
   "outputs": [
    {
     "name": "stdout",
     "output_type": "stream",
     "text": [
      "3318\n"
     ]
    },
    {
     "name": "stderr",
     "output_type": "stream",
     "text": [
      "dist_matrix: 100%|##########| 1323/1323 [07:07<00:00,  3.09it/s]\n",
      "r_index: 100%|##########| 661/661 [00:00<00:00, 900.87it/s]\n"
     ]
    },
    {
     "name": "stdout",
     "output_type": "stream",
     "text": [
      "2583\n"
     ]
    },
    {
     "name": "stderr",
     "output_type": "stream",
     "text": [
      "dist_matrix: 100%|##########| 565/565 [01:21<00:00,  6.94it/s]\n",
      "synth_matrix: 100%|##########| 565/565 [00:00<00:00, 938.58it/s]\n",
      "r_index: 100%|##########| 113/113 [00:00<00:00, 888.62it/s]\n"
     ]
    },
    {
     "name": "stdout",
     "output_type": "stream",
     "text": [
      "4432\n"
     ]
    },
    {
     "name": "stderr",
     "output_type": "stream",
     "text": [
      "dist_matrix: 100%|##########| 1191/1191 [05:41<00:00,  3.48it/s]\n",
      "r_index: 100%|##########| 595/595 [00:00<00:00, 975.55it/s]\n"
     ]
    },
    {
     "name": "stdout",
     "output_type": "stream",
     "text": [
      "6867\n"
     ]
    },
    {
     "name": "stderr",
     "output_type": "stream",
     "text": [
      "dist_matrix: 100%|##########| 1590/1590 [09:58<00:00,  2.66it/s]\n",
      "synth_matrix: 100%|##########| 1590/1590 [00:01<00:00, 990.01it/s]\n"
     ]
    },
    {
     "name": "stdout",
     "output_type": "stream",
     "text": [
      "11631\n"
     ]
    }
   ],
   "source": [
    "while(True):\n",
    "    print(len(train_smogn_over_10000))\n",
    "    if len(train_smogn_over_10000) > 10000:\n",
    "        break\n",
    "    train_smogn_over_10000  = smogn.smoter(\n",
    "        data=train_smogn_over_10000 .dropna().reset_index(drop=True),\n",
    "        y=\"size\",\n",
    "        samp_method = 'extreme',\n",
    "        rel_thres=0.1, \n",
    "        rel_coef = .5\n",
    "    )"
   ]
  },
  {
   "cell_type": "code",
   "execution_count": 255,
   "id": "980035eb-afa2-4db0-a59b-1e2ffd6daa8b",
   "metadata": {},
   "outputs": [],
   "source": [
    "train_data = train_data[~((train_data[\"size\"] >= 100) & (train_data[\"size\"] < 1000))]\n",
    "train_data = pd.concat([train_data, train_smogn_under_1000 ])\n",
    "\n",
    "train_data = train_data[~(train_data[\"size\"] < 100)]\n",
    "train_data = pd.concat([train_data, train_smogn_under_100 ])\n",
    "\n",
    "train_data = train_data[~(train_data[\"size\"] > 10000)]\n",
    "train_data = pd.concat([train_data, train_smogn_over_10000 ])\n",
    "\n",
    "train_data = train_data.sample(frac=1, random_state=42)"
   ]
  },
  {
   "cell_type": "code",
   "execution_count": 298,
   "id": "50f31294-cad1-4fc7-9afb-581101ba9748",
   "metadata": {},
   "outputs": [],
   "source": [
    "train_data[\"zipcode\"] = round(train_data[\"zipcode\"],0)\n",
    "train_data[\"size\"] = round(train_data[\"size\"],0)"
   ]
  },
  {
   "cell_type": "code",
   "execution_count": 300,
   "id": "e9f08889-6f0b-4226-9b88-8d28e8b5759e",
   "metadata": {},
   "outputs": [],
   "source": [
    "X_train,y_train =  train_data.iloc[:,:-1],train_data.iloc[:,-1] \n",
    "X_test,y_test =  test_data.iloc[:,:-1],test_data.iloc[:,-1] "
   ]
  },
  {
   "cell_type": "code",
   "execution_count": 301,
   "id": "1a68506a-39c9-41c4-a592-607a3420a490",
   "metadata": {},
   "outputs": [],
   "source": [
    "sc_X = StandardScaler()\n",
    "X_train_sc = sc_X.fit_transform(X_train)\n",
    "X_test_sc = sc_X.transform(X_test)\n",
    "\n",
    "sc_y = StandardScaler()\n",
    "y_train_sc = sc_y.fit_transform(np.array(y_train).reshape(-1, 1)).ravel()\n",
    "y_test_sc = sc_y.transform(np.array(y_test).reshape(-1, 1)).ravel()"
   ]
  },
  {
   "cell_type": "code",
   "execution_count": 302,
   "id": "e8d21f11-2664-4fe0-a90e-068244903d80",
   "metadata": {},
   "outputs": [],
   "source": [
    "rf_reg = RandomForestRegressor(max_depth = 50,max_features = 'auto',min_samples_leaf = 1,min_samples_split = 2,n_estimators = 300, random_state = 0)\n",
    "adaboost_rf_model = AdaBoostRegressor(base_estimator=rf_reg, n_estimators=20, learning_rate=0.1, random_state=42)\n",
    "xgb_reg = XGBRegressor(\n",
    "    objective='reg:squarederror', \n",
    "    max_depth=50, \n",
    "    learning_rate=0.1, \n",
    "    n_estimators=300\n",
    ")"
   ]
  },
  {
   "cell_type": "code",
   "execution_count": 303,
   "id": "d7e89f98-5e8d-4a17-bff6-8ab8102d49b1",
   "metadata": {},
   "outputs": [],
   "source": [
    "voting_model = VotingRegressor(estimators=[\n",
    "    ('adaboost_rf', adaboost_rf_model),\n",
    "    ('xgboost', xgb_reg)\n",
    "])"
   ]
  },
  {
   "cell_type": "code",
   "execution_count": 304,
   "id": "f4151600-a8bc-45b9-9107-439d1440494f",
   "metadata": {},
   "outputs": [
    {
     "data": {
      "text/plain": [
       "VotingRegressor(estimators=[('adaboost_rf',\n",
       "                             AdaBoostRegressor(base_estimator=RandomForestRegressor(max_depth=50,\n",
       "                                                                                    n_estimators=300,\n",
       "                                                                                    random_state=0),\n",
       "                                               learning_rate=0.1,\n",
       "                                               n_estimators=20,\n",
       "                                               random_state=42)),\n",
       "                            ('xgboost',\n",
       "                             XGBRegressor(base_score=None, booster=None,\n",
       "                                          callbacks=None,\n",
       "                                          colsample_bylevel=None,\n",
       "                                          colsample_bynode=None,\n",
       "                                          colsample_bytree=None,\n",
       "                                          early_stopping_roun...\n",
       "                                          gamma=None, gpu_id=None,\n",
       "                                          grow_policy=None,\n",
       "                                          importance_type=None,\n",
       "                                          interaction_constraints=None,\n",
       "                                          learning_rate=0.1, max_bin=None,\n",
       "                                          max_cat_threshold=None,\n",
       "                                          max_cat_to_onehot=None,\n",
       "                                          max_delta_step=None, max_depth=50,\n",
       "                                          max_leaves=None,\n",
       "                                          min_child_weight=None, missing=nan,\n",
       "                                          monotone_constraints=None,\n",
       "                                          n_estimators=300, n_jobs=None,\n",
       "                                          num_parallel_tree=None,\n",
       "                                          predictor=None, random_state=None, ...))])"
      ]
     },
     "execution_count": 304,
     "metadata": {},
     "output_type": "execute_result"
    }
   ],
   "source": [
    "voting_model.fit(X_train_sc, y_train_sc )"
   ]
  },
  {
   "cell_type": "code",
   "execution_count": 305,
   "id": "e3d6c575-5eaf-48a8-928a-e17b2e47c7fc",
   "metadata": {},
   "outputs": [],
   "source": [
    "stacked_predictions = voting_model.predict(X_test_sc)"
   ]
  },
  {
   "cell_type": "code",
   "execution_count": 313,
   "id": "79db4771-1c9c-414b-b0ed-6d6a83f2b0a8",
   "metadata": {},
   "outputs": [
    {
     "data": {
      "text/plain": [
       "AdaBoostRegressor(base_estimator=RandomForestRegressor(max_depth=50,\n",
       "                                                       n_estimators=300,\n",
       "                                                       random_state=0),\n",
       "                  learning_rate=0.1, n_estimators=20, random_state=42)"
      ]
     },
     "execution_count": 313,
     "metadata": {},
     "output_type": "execute_result"
    }
   ],
   "source": [
    "adaboost_rf_model.fit(X_train_sc, y_train_sc )"
   ]
  },
  {
   "cell_type": "code",
   "execution_count": 314,
   "id": "b334f09d-fc99-4fca-a14f-f8e4b2f18278",
   "metadata": {},
   "outputs": [],
   "source": [
    "stacked_predictions = adaboost_rf_model.predict(X_test_sc)"
   ]
  },
  {
   "cell_type": "code",
   "execution_count": null,
   "id": "9d167193-7e0b-4bd8-81d1-d3db5e1124ed",
   "metadata": {},
   "outputs": [],
   "source": [
    "# for k,l in zip(sc_y.inverse_transform([y_test_sc])[0], sc_y.inverse_transform([stacked_predictions])[0]):\n",
    "#      print(k,l)"
   ]
  },
  {
   "cell_type": "markdown",
   "id": "afc6198d-db70-467a-98a4-8685ae00b051",
   "metadata": {},
   "source": [
    "## Evaluate the quality of the model"
   ]
  },
  {
   "cell_type": "code",
   "execution_count": 306,
   "id": "5ceeb85e-e2fb-4c8c-b451-0163ca942850",
   "metadata": {},
   "outputs": [
    {
     "name": "stdout",
     "output_type": "stream",
     "text": [
      "RMSE of Stacked Model:  1356.567187287908\n"
     ]
    }
   ],
   "source": [
    "rmse_stacked = math.sqrt(mean_squared_error(sc_y.inverse_transform([y_test_sc]), sc_y.inverse_transform([stacked_predictions])))\n",
    "print(\"RMSE of Stacked Model: \", rmse_stacked)"
   ]
  },
  {
   "cell_type": "code",
   "execution_count": 307,
   "id": "22f731c2-05c0-4c17-a1f9-1158bdf8ad48",
   "metadata": {},
   "outputs": [
    {
     "name": "stdout",
     "output_type": "stream",
     "text": [
      "Mean Squared Error:  1840274.5336262258\n"
     ]
    }
   ],
   "source": [
    "mse = mean_squared_error(sc_y.inverse_transform([y_test_sc]), sc_y.inverse_transform([stacked_predictions]))\n",
    "print(\"Mean Squared Error: \",mse)"
   ]
  },
  {
   "cell_type": "code",
   "execution_count": 308,
   "id": "4d7ab5b2-f9ab-446f-ab49-dcd6a900b0d5",
   "metadata": {},
   "outputs": [
    {
     "name": "stdout",
     "output_type": "stream",
     "text": [
      "Mean Absolute Error:  875.9236990289007\n"
     ]
    }
   ],
   "source": [
    "mae = mean_absolute_error(sc_y.inverse_transform([y_test_sc]), sc_y.inverse_transform([stacked_predictions]))\n",
    "print(\"Mean Absolute Error: \",mae)"
   ]
  },
  {
   "cell_type": "code",
   "execution_count": 309,
   "id": "f4d40421-a768-4d3c-91b2-65aa03ca23a9",
   "metadata": {},
   "outputs": [
    {
     "name": "stdout",
     "output_type": "stream",
     "text": [
      "R2 Score:  0.9202254447299695\n"
     ]
    }
   ],
   "source": [
    "r2 = r2_score(sc_y.inverse_transform([y_test_sc])[0], sc_y.inverse_transform([stacked_predictions])[0])\n",
    "print(\"R2 Score: \",r2)"
   ]
  },
  {
   "cell_type": "code",
   "execution_count": 290,
   "id": "5a7a9e68-a05b-4d22-be33-c0e312d6f0c5",
   "metadata": {},
   "outputs": [
    {
     "name": "stdout",
     "output_type": "stream",
     "text": [
      "Correlations:  0.9593546132112373\n"
     ]
    }
   ],
   "source": [
    "correlation_matrix = np.corrcoef(sc_y.inverse_transform([stacked_predictions]).flatten(), sc_y.inverse_transform([y_test_sc]).flatten())\n",
    "\n",
    "# The correlation coefficient is in the top-right position of the matrix\n",
    "correlation_coefficient = correlation_matrix[0, 1]\n",
    "\n",
    "print(\"Correlations: \",correlation_coefficient)"
   ]
  },
  {
   "cell_type": "code",
   "execution_count": 291,
   "id": "aefbeb3c-116f-4e38-8814-2b3429da82e4",
   "metadata": {},
   "outputs": [
    {
     "name": "stdout",
     "output_type": "stream",
     "text": [
      "Median Absolute Error: 875.9236990289007\n"
     ]
    }
   ],
   "source": [
    "medae = median_absolute_error(sc_y.inverse_transform([y_test_sc]), sc_y.inverse_transform([stacked_predictions]))\n",
    "print(f'Median Absolute Error: {medae}')"
   ]
  },
  {
   "cell_type": "markdown",
   "id": "3bd46fb8-ed36-4685-b5c3-9ac9fbbbf6b7",
   "metadata": {},
   "source": [
    "## Confidence interval "
   ]
  },
  {
   "cell_type": "code",
   "execution_count": 268,
   "id": "692a9918-918f-4083-b30f-bd057f62cf1b",
   "metadata": {},
   "outputs": [
    {
     "name": "stdout",
     "output_type": "stream",
     "text": [
      "[[ 8795.11367467  9115.25751209]\n",
      " [ 4876.98906086  5342.98487668]\n",
      " [ 8087.12773771  8336.57900644]\n",
      " ...\n",
      " [ 8546.9652513   9015.48327604]\n",
      " [ 2635.03086543  3062.53210798]\n",
      " [11018.1432146  11537.28172217]]\n"
     ]
    }
   ],
   "source": [
    "X_test_with_intercept = sm.add_constant(sc_X.inverse_transform(X_test_sc))  \n",
    "model_with_intercept = sm.OLS(sc_y.inverse_transform([y_test_sc])[0], X_test_with_intercept).fit()\n",
    "\n",
    "confidence_intervals = model_with_intercept.get_prediction(X_test_with_intercept).conf_int()\n",
    "\n",
    "print(confidence_intervals)"
   ]
  },
  {
   "cell_type": "code",
   "execution_count": 269,
   "id": "92135b53-1989-4416-ab5a-360b6084de6a",
   "metadata": {},
   "outputs": [
    {
     "name": "stdout",
     "output_type": "stream",
     "text": [
      "Probability Intervals:\n",
      "Lower Probability: [0.6148359  0.26245798 0.54946472 ... 0.59219274 0.12167877 0.79341087]\n",
      "Upper Probability: [0.64346984 0.29963601 0.57274772 ... 0.63462371 0.14334474 0.82670772]\n",
      "Lower Mean Confidence:  0.47529272603076334\n",
      "Upper Mean Confidence:  0.5103389527777652\n",
      "Lower Median Confidence:  0.4807416401044433\n",
      "Upper Median Confidence:  0.5214250606375318\n"
     ]
    }
   ],
   "source": [
    "mean_predictions = sc_y.inverse_transform([stacked_predictions])[0].mean()\n",
    "std_predictions = sc_y.inverse_transform([stacked_predictions])[0].std()\n",
    "\n",
    "\n",
    "lower_prob = norm.cdf(confidence_intervals[:, 0], loc=mean_predictions, scale=std_predictions)\n",
    "upper_prob = norm.cdf(confidence_intervals[:, 1], loc=mean_predictions, scale=std_predictions)\n",
    "\n",
    "print(\"Probability Intervals:\")\n",
    "print(\"Lower Probability:\", lower_prob)\n",
    "print(\"Upper Probability:\", upper_prob)\n",
    "print(\"Lower Mean Confidence: \",lower_prob.mean())\n",
    "print(\"Upper Mean Confidence: \",upper_prob.mean()) \n",
    "print(\"Lower Median Confidence: \",np.median(lower_prob))\n",
    "print(\"Upper Median Confidence: \",np.median(upper_prob)) "
   ]
  },
  {
   "cell_type": "markdown",
   "id": "31fc760d-a415-4e52-ab02-bf0c71d5d91f",
   "metadata": {},
   "source": [
    "## Visualisations "
   ]
  },
  {
   "cell_type": "code",
   "execution_count": 315,
   "id": "d6950b25-9b64-4cd2-a00e-f89768d3a0fb",
   "metadata": {},
   "outputs": [
    {
     "data": {
      "image/png": "[encoded data removed]",
      "text/plain": [
       "<Figure size 640x480 with 1 Axes>"
      ]
     },
     "metadata": {},
     "output_type": "display_data"
    }
   ],
   "source": [
    "feature_importances = adaboost_rf_model.feature_importances_\n",
    "feature_names = X.columns\n",
    "\n",
    "feature_importance_dict = dict(zip(feature_names, feature_importances))\n",
    "sorted_features = sorted(feature_importance_dict.items(), key=lambda x: x[1], reverse=True)\n",
    "sorted_feature_names, sorted_feature_importances = zip(*sorted_features)\n",
    "\n",
    "plt.bar(sorted_feature_names, sorted_feature_importances)\n",
    "plt.xlabel('Features')\n",
    "plt.ylabel('Importance')\n",
    "plt.title('Feature Importance')\n",
    "plt.xticks(rotation=45, ha='right')  \n",
    "plt.show()"
   ]
  },
  {
   "cell_type": "code",
   "execution_count": 275,
   "id": "6e67c85e-4a54-4af4-b235-0b69bd0e2b72",
   "metadata": {},
   "outputs": [
    {
     "data": {
      "image/png": "[encoded data removed]",
      "text/plain": [
       "<Figure size 640x480 with 1 Axes>"
      ]
     },
     "metadata": {},
     "output_type": "display_data"
    }
   ],
   "source": [
    "plt.scatter(sc_y.inverse_transform([y_test_sc])[0], sc_y.inverse_transform([stacked_predictions])[0])\n",
    "plt.plot([min(sc_y.inverse_transform([y_test_sc])[0]), \n",
    "          max(sc_y.inverse_transform([y_test_sc])[0])], \n",
    "         [min(sc_y.inverse_transform([y_test_sc])[0]), \n",
    "          max(sc_y.inverse_transform([y_test_sc])[0])], \n",
    "         linestyle='--', color='red')  \n",
    "plt.xlabel('Actual Values')\n",
    "plt.ylabel('Predicted Values')\n",
    "plt.title('Actual vs. Predicted Values')\n",
    "plt.show()"
   ]
  },
  {
   "cell_type": "markdown",
   "id": "75cdbb20-8430-4318-97d9-715cd1519dcc",
   "metadata": {},
   "source": [
    "## New predictions"
   ]
  },
  {
   "cell_type": "code",
   "execution_count": 321,
   "id": "76106f53-4f0d-4a82-adb6-ab9c7f3ec569",
   "metadata": {},
   "outputs": [],
   "source": [
    "df_predictions = df[df[\"size\"].isna()].iloc[:,:-1].dropna()"
   ]
  },
  {
   "cell_type": "code",
   "execution_count": 322,
   "id": "dce80988-153e-4ce7-b377-6607c1386224",
   "metadata": {},
   "outputs": [],
   "source": [
    "df_predictions = df_predictions.drop(columns=columns_to_drop).drop_duplicates().reset_index(drop=True)"
   ]
  },
  {
   "cell_type": "code",
   "execution_count": 326,
   "id": "e28e6f40-b3e6-41a5-83a4-5aa8744b44d7",
   "metadata": {},
   "outputs": [],
   "source": [
    "predictions = voting_model.predict(sc_X.fit_transform(df_predictions))"
   ]
  },
  {
   "cell_type": "code",
   "execution_count": 329,
   "id": "a84efb80-253e-4db5-8dcc-dff6adca26bf",
   "metadata": {},
   "outputs": [],
   "source": [
    "df_predictions[\"PREDICTED_size\"] = sc_y.inverse_transform([predictions])[0] "
   ]
  },
  {
   "cell_type": "code",
   "execution_count": 330,
   "id": "150cc583-28ac-4ae7-8dfa-c64bc57cb074",
   "metadata": {},
   "outputs": [],
   "source": [
    "# df_predictions.to_csv(\"predicted_size.csv\",index=False)"
   ]
  },
  {
   "cell_type": "code",
   "execution_count": null,
   "id": "029a4819-d554-4c7e-a1aa-bfeca2b07832",
   "metadata": {},
   "outputs": [],
   "source": []
  }
 ],
 "metadata": {
  "kernelspec": {
   "display_name": "Python 3 (ipykernel)",
   "language": "python",
   "name": "python3"
  },
  "language_info": {
   "codemirror_mode": {
    "name": "ipython",
    "version": 3
   },
   "file_extension": ".py",
   "mimetype": "text/x-python",
   "name": "python",
   "nbconvert_exporter": "python",
   "pygments_lexer": "ipython3",
   "version": "3.9.13"
  }
 },
 "nbformat": 4,
 "nbformat_minor": 5
}
