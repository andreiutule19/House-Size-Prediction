{
 "cells": [
  {
   "cell_type": "code",
   "execution_count": 385,
   "id": "38d4ce70-ebe8-4f98-9ba9-7412080517f5",
   "metadata": {},
   "outputs": [],
   "source": [
    "import pandas as pd\n",
    "import numpy as np\n",
    "from sklearn.ensemble import RandomForestRegressor,AdaBoostRegressor\n",
    "from sklearn.metrics import mean_squared_error\n",
    "import matplotlib.pyplot as plt\n",
    "from sklearn.preprocessing import StandardScaler, OneHotEncoder\n",
    "from sklearn.compose import ColumnTransformer\n",
    "from sklearn.preprocessing import StandardScaler\n",
    "from sklearn.pipeline import Pipeline\n",
    "from sklearn.model_selection import GridSearchCV\n",
    "from sklearn.model_selection import train_test_split\n",
    "from xgboost import XGBRegressor\n",
    "from imblearn.over_sampling import SMOTE\n",
    "import smogn\n",
    "from sklearn.model_selection import StratifiedShuffleSplit"
   ]
  },
  {
   "cell_type": "code",
   "execution_count": 542,
   "id": "0f142d43-2522-44a2-b2c1-224c3b577e17",
   "metadata": {},
   "outputs": [],
   "source": [
    "df = pd.read_csv(\"imputation_test.csv\")"
   ]
  },
  {
   "cell_type": "code",
   "execution_count": 543,
   "id": "881f7855-bf51-4504-bbff-42f1c5a7db30",
   "metadata": {},
   "outputs": [],
   "source": [
    "df = df.round(5)"
   ]
  },
  {
   "cell_type": "code",
   "execution_count": 544,
   "id": "c06ca8f5-6688-4b8b-ba08-4839378bc965",
   "metadata": {},
   "outputs": [],
   "source": [
    "df_for_prediction = df[df[\"size\"].isna()]\n",
    "df_for_training = df[~df[\"size\"].isna()]"
   ]
  },
  {
   "cell_type": "code",
   "execution_count": 545,
   "id": "01927fa6-7bdf-4df3-a39f-b29487aa3fb0",
   "metadata": {},
   "outputs": [],
   "source": [
    "df_for_training = df_for_training.dropna().reset_index(drop = True)"
   ]
  },
  {
   "cell_type": "code",
   "execution_count": 546,
   "id": "9d151aa2-b6ee-4201-810a-3e1e6467b11e",
   "metadata": {},
   "outputs": [],
   "source": [
    "df_for_training = df_for_training[~(df_for_training[\"size\"]<100)]"
   ]
  },
  {
   "cell_type": "code",
   "execution_count": 532,
   "id": "fed656d7-e137-4495-9d27-27343cc632e6",
   "metadata": {},
   "outputs": [],
   "source": [
    "import pandas as pd\n",
    "\n",
    "# Set your threshold value and column name\n",
    "threshold_value_1 = 10000\n",
    "threshold_value_2 = 1000\n",
    "column_name = 'size'\n",
    "\n",
    "# # Drop duplicate rows based on the condition\n",
    "# df_for_training = df_for_training[~(df_for_training.duplicated(subset=column_name) & \n",
    "#                                     ((df_for_training[column_name] < threshold_value_1) & \n",
    "#                                     (df_for_training[column_name] > threshold_value_2)) )]\n",
    "df_for_training =df_for_training[~((df_for_training.duplicated(subset=column_name)) & \n",
    "                                     \n",
    "                                    (df_for_training[column_name] > threshold_value_2))]"
   ]
  },
  {
   "cell_type": "code",
   "execution_count": 547,
   "id": "20b9bfce-a67b-4f3f-bffc-47d4eba09a33",
   "metadata": {},
   "outputs": [],
   "source": [
    "columns_to_drop = ['hh_id','month','year','lusage','mozip','children',\n",
    " 'owner',\n",
    " 'income6',\n",
    " 'hhsize3',\n",
    " 'income7',\n",
    " 'hhsize4',\n",
    " 'income3',\n",
    " 'income4',\n",
    " 'hhsize5',\n",
    " 'income9',\n",
    " 'hhsize5plus',\n",
    " 'income2',\n",
    " 'income8']\n",
    "df_for_training = df_for_training.drop(columns=columns_to_drop)"
   ]
  },
  {
   "cell_type": "code",
   "execution_count": 548,
   "id": "6a1f9cd7-dead-43d9-a697-e2d8ce0d8539",
   "metadata": {},
   "outputs": [],
   "source": [
    "df_for_training = df_for_training.drop_duplicates().reset_index(drop = True)"
   ]
  },
  {
   "cell_type": "code",
   "execution_count": 549,
   "id": "116914ed-2b46-4599-bd60-bb7f48b42ced",
   "metadata": {},
   "outputs": [],
   "source": [
    "df_for_training = df_for_training.sort_values(by =[\"size\"]).reset_index(drop = True)\n"
   ]
  },
  {
   "cell_type": "code",
   "execution_count": 562,
   "id": "7100db72-d500-43ab-9082-b79ec2b903cc",
   "metadata": {},
   "outputs": [
    {
     "data": {
      "text/html": [
       "<div>\n",
       "<style scoped>\n",
       "    .dataframe tbody tr th:only-of-type {\n",
       "        vertical-align: middle;\n",
       "    }\n",
       "\n",
       "    .dataframe tbody tr th {\n",
       "        vertical-align: top;\n",
       "    }\n",
       "\n",
       "    .dataframe thead th {\n",
       "        text-align: right;\n",
       "    }\n",
       "</style>\n",
       "<table border=\"1\" class=\"dataframe\">\n",
       "  <thead>\n",
       "    <tr style=\"text-align: right;\">\n",
       "      <th></th>\n",
       "      <th>zipcode</th>\n",
       "      <th>luse1</th>\n",
       "      <th>luse2</th>\n",
       "      <th>luse3</th>\n",
       "      <th>luse4</th>\n",
       "      <th>luse5</th>\n",
       "      <th>luse6</th>\n",
       "      <th>hhsize2</th>\n",
       "      <th>income5</th>\n",
       "      <th>size</th>\n",
       "    </tr>\n",
       "  </thead>\n",
       "  <tbody>\n",
       "    <tr>\n",
       "      <th>1149</th>\n",
       "      <td>54.0</td>\n",
       "      <td>5.15559</td>\n",
       "      <td>4.95454</td>\n",
       "      <td>4.91437</td>\n",
       "      <td>4.90144</td>\n",
       "      <td>4.85384</td>\n",
       "      <td>4.89557</td>\n",
       "      <td>0</td>\n",
       "      <td>1.0</td>\n",
       "      <td>1001.0</td>\n",
       "    </tr>\n",
       "    <tr>\n",
       "      <th>1150</th>\n",
       "      <td>59.0</td>\n",
       "      <td>6.03304</td>\n",
       "      <td>6.08157</td>\n",
       "      <td>6.21728</td>\n",
       "      <td>6.52329</td>\n",
       "      <td>6.75444</td>\n",
       "      <td>5.97688</td>\n",
       "      <td>1</td>\n",
       "      <td>0.0</td>\n",
       "      <td>1002.0</td>\n",
       "    </tr>\n",
       "    <tr>\n",
       "      <th>1151</th>\n",
       "      <td>42.0</td>\n",
       "      <td>6.16131</td>\n",
       "      <td>6.30984</td>\n",
       "      <td>6.63346</td>\n",
       "      <td>7.03296</td>\n",
       "      <td>6.98489</td>\n",
       "      <td>6.34470</td>\n",
       "      <td>0</td>\n",
       "      <td>0.0</td>\n",
       "      <td>1002.0</td>\n",
       "    </tr>\n",
       "    <tr>\n",
       "      <th>1152</th>\n",
       "      <td>15.0</td>\n",
       "      <td>5.08829</td>\n",
       "      <td>5.32351</td>\n",
       "      <td>5.61797</td>\n",
       "      <td>6.01114</td>\n",
       "      <td>6.00559</td>\n",
       "      <td>5.65351</td>\n",
       "      <td>0</td>\n",
       "      <td>0.0</td>\n",
       "      <td>1005.0</td>\n",
       "    </tr>\n",
       "    <tr>\n",
       "      <th>1153</th>\n",
       "      <td>57.0</td>\n",
       "      <td>6.44648</td>\n",
       "      <td>6.44591</td>\n",
       "      <td>7.12048</td>\n",
       "      <td>7.09848</td>\n",
       "      <td>7.18747</td>\n",
       "      <td>6.62762</td>\n",
       "      <td>0</td>\n",
       "      <td>0.0</td>\n",
       "      <td>1006.0</td>\n",
       "    </tr>\n",
       "    <tr>\n",
       "      <th>...</th>\n",
       "      <td>...</td>\n",
       "      <td>...</td>\n",
       "      <td>...</td>\n",
       "      <td>...</td>\n",
       "      <td>...</td>\n",
       "      <td>...</td>\n",
       "      <td>...</td>\n",
       "      <td>...</td>\n",
       "      <td>...</td>\n",
       "      <td>...</td>\n",
       "    </tr>\n",
       "    <tr>\n",
       "      <th>15687</th>\n",
       "      <td>1.0</td>\n",
       "      <td>6.41086</td>\n",
       "      <td>6.34675</td>\n",
       "      <td>6.20899</td>\n",
       "      <td>6.22774</td>\n",
       "      <td>6.27118</td>\n",
       "      <td>6.21842</td>\n",
       "      <td>1</td>\n",
       "      <td>0.0</td>\n",
       "      <td>9997.0</td>\n",
       "    </tr>\n",
       "    <tr>\n",
       "      <th>15688</th>\n",
       "      <td>25.0</td>\n",
       "      <td>6.46809</td>\n",
       "      <td>6.43133</td>\n",
       "      <td>6.44368</td>\n",
       "      <td>6.60412</td>\n",
       "      <td>6.72882</td>\n",
       "      <td>6.39567</td>\n",
       "      <td>0</td>\n",
       "      <td>0.0</td>\n",
       "      <td>9997.0</td>\n",
       "    </tr>\n",
       "    <tr>\n",
       "      <th>15689</th>\n",
       "      <td>54.0</td>\n",
       "      <td>6.47206</td>\n",
       "      <td>6.28491</td>\n",
       "      <td>6.34735</td>\n",
       "      <td>6.64906</td>\n",
       "      <td>6.79731</td>\n",
       "      <td>6.41232</td>\n",
       "      <td>0</td>\n",
       "      <td>0.0</td>\n",
       "      <td>9998.0</td>\n",
       "    </tr>\n",
       "    <tr>\n",
       "      <th>15690</th>\n",
       "      <td>52.0</td>\n",
       "      <td>6.11458</td>\n",
       "      <td>6.38767</td>\n",
       "      <td>6.29667</td>\n",
       "      <td>6.65855</td>\n",
       "      <td>6.82750</td>\n",
       "      <td>6.52783</td>\n",
       "      <td>0</td>\n",
       "      <td>0.0</td>\n",
       "      <td>9999.0</td>\n",
       "    </tr>\n",
       "    <tr>\n",
       "      <th>15691</th>\n",
       "      <td>49.0</td>\n",
       "      <td>5.89350</td>\n",
       "      <td>5.94090</td>\n",
       "      <td>5.92513</td>\n",
       "      <td>6.23627</td>\n",
       "      <td>6.62009</td>\n",
       "      <td>5.94037</td>\n",
       "      <td>0</td>\n",
       "      <td>0.0</td>\n",
       "      <td>9999.0</td>\n",
       "    </tr>\n",
       "  </tbody>\n",
       "</table>\n",
       "<p>14543 rows × 10 columns</p>\n",
       "</div>"
      ],
      "text/plain": [
       "       zipcode    luse1    luse2    luse3    luse4    luse5    luse6  hhsize2  \\\n",
       "1149      54.0  5.15559  4.95454  4.91437  4.90144  4.85384  4.89557        0   \n",
       "1150      59.0  6.03304  6.08157  6.21728  6.52329  6.75444  5.97688        1   \n",
       "1151      42.0  6.16131  6.30984  6.63346  7.03296  6.98489  6.34470        0   \n",
       "1152      15.0  5.08829  5.32351  5.61797  6.01114  6.00559  5.65351        0   \n",
       "1153      57.0  6.44648  6.44591  7.12048  7.09848  7.18747  6.62762        0   \n",
       "...        ...      ...      ...      ...      ...      ...      ...      ...   \n",
       "15687      1.0  6.41086  6.34675  6.20899  6.22774  6.27118  6.21842        1   \n",
       "15688     25.0  6.46809  6.43133  6.44368  6.60412  6.72882  6.39567        0   \n",
       "15689     54.0  6.47206  6.28491  6.34735  6.64906  6.79731  6.41232        0   \n",
       "15690     52.0  6.11458  6.38767  6.29667  6.65855  6.82750  6.52783        0   \n",
       "15691     49.0  5.89350  5.94090  5.92513  6.23627  6.62009  5.94037        0   \n",
       "\n",
       "       income5    size  \n",
       "1149       1.0  1001.0  \n",
       "1150       0.0  1002.0  \n",
       "1151       0.0  1002.0  \n",
       "1152       0.0  1005.0  \n",
       "1153       0.0  1006.0  \n",
       "...        ...     ...  \n",
       "15687      0.0  9997.0  \n",
       "15688      0.0  9997.0  \n",
       "15689      0.0  9998.0  \n",
       "15690      0.0  9999.0  \n",
       "15691      0.0  9999.0  \n",
       "\n",
       "[14543 rows x 10 columns]"
      ]
     },
     "execution_count": 562,
     "metadata": {},
     "output_type": "execute_result"
    }
   ],
   "source": [
    "df_for_training [(df_for_training [\"size\"] < 10000) & (df_for_training [\"size\"] > 1000)]"
   ]
  },
  {
   "cell_type": "code",
   "execution_count": 564,
   "id": "d4bea664-33a1-4019-bf24-33b76b96ec6a",
   "metadata": {},
   "outputs": [
    {
     "data": {
      "text/html": [
       "<div>\n",
       "<style scoped>\n",
       "    .dataframe tbody tr th:only-of-type {\n",
       "        vertical-align: middle;\n",
       "    }\n",
       "\n",
       "    .dataframe tbody tr th {\n",
       "        vertical-align: top;\n",
       "    }\n",
       "\n",
       "    .dataframe thead th {\n",
       "        text-align: right;\n",
       "    }\n",
       "</style>\n",
       "<table border=\"1\" class=\"dataframe\">\n",
       "  <thead>\n",
       "    <tr style=\"text-align: right;\">\n",
       "      <th></th>\n",
       "      <th>zipcode</th>\n",
       "      <th>luse1</th>\n",
       "      <th>luse2</th>\n",
       "      <th>luse3</th>\n",
       "      <th>luse4</th>\n",
       "      <th>luse5</th>\n",
       "      <th>luse6</th>\n",
       "      <th>hhsize2</th>\n",
       "      <th>income5</th>\n",
       "      <th>size</th>\n",
       "    </tr>\n",
       "  </thead>\n",
       "  <tbody>\n",
       "    <tr>\n",
       "      <th>0</th>\n",
       "      <td>28.0</td>\n",
       "      <td>6.35266</td>\n",
       "      <td>6.52132</td>\n",
       "      <td>6.65141</td>\n",
       "      <td>6.94741</td>\n",
       "      <td>7.03187</td>\n",
       "      <td>6.71478</td>\n",
       "      <td>1</td>\n",
       "      <td>0.0</td>\n",
       "      <td>100.0</td>\n",
       "    </tr>\n",
       "    <tr>\n",
       "      <th>1</th>\n",
       "      <td>49.0</td>\n",
       "      <td>5.75439</td>\n",
       "      <td>5.83289</td>\n",
       "      <td>5.99303</td>\n",
       "      <td>6.42469</td>\n",
       "      <td>6.59886</td>\n",
       "      <td>5.84068</td>\n",
       "      <td>1</td>\n",
       "      <td>0.0</td>\n",
       "      <td>100.0</td>\n",
       "    </tr>\n",
       "    <tr>\n",
       "      <th>2</th>\n",
       "      <td>52.0</td>\n",
       "      <td>5.79684</td>\n",
       "      <td>6.02853</td>\n",
       "      <td>6.14556</td>\n",
       "      <td>6.47221</td>\n",
       "      <td>6.55040</td>\n",
       "      <td>6.16455</td>\n",
       "      <td>1</td>\n",
       "      <td>0.0</td>\n",
       "      <td>100.0</td>\n",
       "    </tr>\n",
       "    <tr>\n",
       "      <th>3</th>\n",
       "      <td>1.0</td>\n",
       "      <td>6.89719</td>\n",
       "      <td>7.05735</td>\n",
       "      <td>7.57469</td>\n",
       "      <td>7.78077</td>\n",
       "      <td>7.89818</td>\n",
       "      <td>7.52851</td>\n",
       "      <td>0</td>\n",
       "      <td>0.0</td>\n",
       "      <td>100.0</td>\n",
       "    </tr>\n",
       "    <tr>\n",
       "      <th>4</th>\n",
       "      <td>1.0</td>\n",
       "      <td>7.01342</td>\n",
       "      <td>7.08935</td>\n",
       "      <td>7.54015</td>\n",
       "      <td>7.70901</td>\n",
       "      <td>7.85176</td>\n",
       "      <td>7.22692</td>\n",
       "      <td>0</td>\n",
       "      <td>0.0</td>\n",
       "      <td>101.0</td>\n",
       "    </tr>\n",
       "    <tr>\n",
       "      <th>...</th>\n",
       "      <td>...</td>\n",
       "      <td>...</td>\n",
       "      <td>...</td>\n",
       "      <td>...</td>\n",
       "      <td>...</td>\n",
       "      <td>...</td>\n",
       "      <td>...</td>\n",
       "      <td>...</td>\n",
       "      <td>...</td>\n",
       "      <td>...</td>\n",
       "    </tr>\n",
       "    <tr>\n",
       "      <th>1143</th>\n",
       "      <td>1.0</td>\n",
       "      <td>6.20862</td>\n",
       "      <td>6.07787</td>\n",
       "      <td>6.49505</td>\n",
       "      <td>6.71513</td>\n",
       "      <td>6.76153</td>\n",
       "      <td>6.09862</td>\n",
       "      <td>0</td>\n",
       "      <td>0.0</td>\n",
       "      <td>996.0</td>\n",
       "    </tr>\n",
       "    <tr>\n",
       "      <th>1144</th>\n",
       "      <td>54.0</td>\n",
       "      <td>6.64986</td>\n",
       "      <td>6.59507</td>\n",
       "      <td>6.43262</td>\n",
       "      <td>6.58222</td>\n",
       "      <td>6.53907</td>\n",
       "      <td>6.41276</td>\n",
       "      <td>0</td>\n",
       "      <td>1.0</td>\n",
       "      <td>998.0</td>\n",
       "    </tr>\n",
       "    <tr>\n",
       "      <th>1145</th>\n",
       "      <td>1.0</td>\n",
       "      <td>6.10650</td>\n",
       "      <td>6.02619</td>\n",
       "      <td>6.20496</td>\n",
       "      <td>6.35437</td>\n",
       "      <td>6.37690</td>\n",
       "      <td>6.02946</td>\n",
       "      <td>1</td>\n",
       "      <td>0.0</td>\n",
       "      <td>999.0</td>\n",
       "    </tr>\n",
       "    <tr>\n",
       "      <th>1146</th>\n",
       "      <td>15.0</td>\n",
       "      <td>6.77411</td>\n",
       "      <td>6.74060</td>\n",
       "      <td>7.12509</td>\n",
       "      <td>7.65087</td>\n",
       "      <td>7.81517</td>\n",
       "      <td>7.39763</td>\n",
       "      <td>0</td>\n",
       "      <td>0.0</td>\n",
       "      <td>999.0</td>\n",
       "    </tr>\n",
       "    <tr>\n",
       "      <th>1147</th>\n",
       "      <td>54.0</td>\n",
       "      <td>5.67478</td>\n",
       "      <td>5.90958</td>\n",
       "      <td>6.20464</td>\n",
       "      <td>6.52176</td>\n",
       "      <td>6.62813</td>\n",
       "      <td>6.12157</td>\n",
       "      <td>0</td>\n",
       "      <td>0.0</td>\n",
       "      <td>999.0</td>\n",
       "    </tr>\n",
       "  </tbody>\n",
       "</table>\n",
       "<p>1148 rows × 10 columns</p>\n",
       "</div>"
      ],
      "text/plain": [
       "      zipcode    luse1    luse2    luse3    luse4    luse5    luse6  hhsize2  \\\n",
       "0        28.0  6.35266  6.52132  6.65141  6.94741  7.03187  6.71478        1   \n",
       "1        49.0  5.75439  5.83289  5.99303  6.42469  6.59886  5.84068        1   \n",
       "2        52.0  5.79684  6.02853  6.14556  6.47221  6.55040  6.16455        1   \n",
       "3         1.0  6.89719  7.05735  7.57469  7.78077  7.89818  7.52851        0   \n",
       "4         1.0  7.01342  7.08935  7.54015  7.70901  7.85176  7.22692        0   \n",
       "...       ...      ...      ...      ...      ...      ...      ...      ...   \n",
       "1143      1.0  6.20862  6.07787  6.49505  6.71513  6.76153  6.09862        0   \n",
       "1144     54.0  6.64986  6.59507  6.43262  6.58222  6.53907  6.41276        0   \n",
       "1145      1.0  6.10650  6.02619  6.20496  6.35437  6.37690  6.02946        1   \n",
       "1146     15.0  6.77411  6.74060  7.12509  7.65087  7.81517  7.39763        0   \n",
       "1147     54.0  5.67478  5.90958  6.20464  6.52176  6.62813  6.12157        0   \n",
       "\n",
       "      income5   size  \n",
       "0         0.0  100.0  \n",
       "1         0.0  100.0  \n",
       "2         0.0  100.0  \n",
       "3         0.0  100.0  \n",
       "4         0.0  101.0  \n",
       "...       ...    ...  \n",
       "1143      0.0  996.0  \n",
       "1144      1.0  998.0  \n",
       "1145      0.0  999.0  \n",
       "1146      0.0  999.0  \n",
       "1147      0.0  999.0  \n",
       "\n",
       "[1148 rows x 10 columns]"
      ]
     },
     "execution_count": 564,
     "metadata": {},
     "output_type": "execute_result"
    }
   ],
   "source": [
    "df_for_training [(df_for_training [\"size\"] < 1000)]"
   ]
  },
  {
   "cell_type": "code",
   "execution_count": 565,
   "id": "b56cece1-ca7c-4278-b701-f06f6a80b886",
   "metadata": {},
   "outputs": [
    {
     "data": {
      "text/html": [
       "<div>\n",
       "<style scoped>\n",
       "    .dataframe tbody tr th:only-of-type {\n",
       "        vertical-align: middle;\n",
       "    }\n",
       "\n",
       "    .dataframe tbody tr th {\n",
       "        vertical-align: top;\n",
       "    }\n",
       "\n",
       "    .dataframe thead th {\n",
       "        text-align: right;\n",
       "    }\n",
       "</style>\n",
       "<table border=\"1\" class=\"dataframe\">\n",
       "  <thead>\n",
       "    <tr style=\"text-align: right;\">\n",
       "      <th></th>\n",
       "      <th>zipcode</th>\n",
       "      <th>luse1</th>\n",
       "      <th>luse2</th>\n",
       "      <th>luse3</th>\n",
       "      <th>luse4</th>\n",
       "      <th>luse5</th>\n",
       "      <th>luse6</th>\n",
       "      <th>hhsize2</th>\n",
       "      <th>income5</th>\n",
       "      <th>size</th>\n",
       "    </tr>\n",
       "  </thead>\n",
       "  <tbody>\n",
       "    <tr>\n",
       "      <th>15694</th>\n",
       "      <td>1.0</td>\n",
       "      <td>6.56519</td>\n",
       "      <td>6.54247</td>\n",
       "      <td>6.55342</td>\n",
       "      <td>6.48205</td>\n",
       "      <td>6.63068</td>\n",
       "      <td>6.46436</td>\n",
       "      <td>1</td>\n",
       "      <td>1.0</td>\n",
       "      <td>10001.0</td>\n",
       "    </tr>\n",
       "    <tr>\n",
       "      <th>15695</th>\n",
       "      <td>28.0</td>\n",
       "      <td>6.72116</td>\n",
       "      <td>6.41114</td>\n",
       "      <td>6.51446</td>\n",
       "      <td>6.76258</td>\n",
       "      <td>6.79575</td>\n",
       "      <td>6.53904</td>\n",
       "      <td>0</td>\n",
       "      <td>0.0</td>\n",
       "      <td>10001.0</td>\n",
       "    </tr>\n",
       "    <tr>\n",
       "      <th>15696</th>\n",
       "      <td>53.0</td>\n",
       "      <td>6.23417</td>\n",
       "      <td>5.86228</td>\n",
       "      <td>5.82698</td>\n",
       "      <td>5.91852</td>\n",
       "      <td>5.97916</td>\n",
       "      <td>5.91638</td>\n",
       "      <td>1</td>\n",
       "      <td>0.0</td>\n",
       "      <td>10001.0</td>\n",
       "    </tr>\n",
       "    <tr>\n",
       "      <th>15697</th>\n",
       "      <td>49.0</td>\n",
       "      <td>6.68268</td>\n",
       "      <td>6.68307</td>\n",
       "      <td>6.68292</td>\n",
       "      <td>7.04916</td>\n",
       "      <td>7.15573</td>\n",
       "      <td>6.70622</td>\n",
       "      <td>0</td>\n",
       "      <td>0.0</td>\n",
       "      <td>10001.0</td>\n",
       "    </tr>\n",
       "    <tr>\n",
       "      <th>15698</th>\n",
       "      <td>25.0</td>\n",
       "      <td>6.31948</td>\n",
       "      <td>6.26554</td>\n",
       "      <td>6.28346</td>\n",
       "      <td>6.48252</td>\n",
       "      <td>6.62744</td>\n",
       "      <td>6.41548</td>\n",
       "      <td>0</td>\n",
       "      <td>0.0</td>\n",
       "      <td>10002.0</td>\n",
       "    </tr>\n",
       "    <tr>\n",
       "      <th>...</th>\n",
       "      <td>...</td>\n",
       "      <td>...</td>\n",
       "      <td>...</td>\n",
       "      <td>...</td>\n",
       "      <td>...</td>\n",
       "      <td>...</td>\n",
       "      <td>...</td>\n",
       "      <td>...</td>\n",
       "      <td>...</td>\n",
       "      <td>...</td>\n",
       "    </tr>\n",
       "    <tr>\n",
       "      <th>22191</th>\n",
       "      <td>57.0</td>\n",
       "      <td>7.26979</td>\n",
       "      <td>6.39977</td>\n",
       "      <td>6.17593</td>\n",
       "      <td>6.40754</td>\n",
       "      <td>6.32177</td>\n",
       "      <td>6.31591</td>\n",
       "      <td>0</td>\n",
       "      <td>0.0</td>\n",
       "      <td>19996.0</td>\n",
       "    </tr>\n",
       "    <tr>\n",
       "      <th>22192</th>\n",
       "      <td>15.0</td>\n",
       "      <td>7.24002</td>\n",
       "      <td>6.37314</td>\n",
       "      <td>6.14823</td>\n",
       "      <td>5.89936</td>\n",
       "      <td>5.93854</td>\n",
       "      <td>5.90738</td>\n",
       "      <td>0</td>\n",
       "      <td>0.0</td>\n",
       "      <td>19996.0</td>\n",
       "    </tr>\n",
       "    <tr>\n",
       "      <th>22193</th>\n",
       "      <td>53.0</td>\n",
       "      <td>7.09888</td>\n",
       "      <td>5.69688</td>\n",
       "      <td>5.63504</td>\n",
       "      <td>5.78927</td>\n",
       "      <td>5.63134</td>\n",
       "      <td>5.76703</td>\n",
       "      <td>0</td>\n",
       "      <td>0.0</td>\n",
       "      <td>19999.0</td>\n",
       "    </tr>\n",
       "    <tr>\n",
       "      <th>22194</th>\n",
       "      <td>1.0</td>\n",
       "      <td>7.06204</td>\n",
       "      <td>6.52229</td>\n",
       "      <td>6.17502</td>\n",
       "      <td>6.27571</td>\n",
       "      <td>6.34642</td>\n",
       "      <td>6.39258</td>\n",
       "      <td>0</td>\n",
       "      <td>0.0</td>\n",
       "      <td>19999.0</td>\n",
       "    </tr>\n",
       "    <tr>\n",
       "      <th>22195</th>\n",
       "      <td>48.0</td>\n",
       "      <td>6.68336</td>\n",
       "      <td>5.46145</td>\n",
       "      <td>5.34379</td>\n",
       "      <td>6.02156</td>\n",
       "      <td>6.25101</td>\n",
       "      <td>5.65960</td>\n",
       "      <td>0</td>\n",
       "      <td>0.0</td>\n",
       "      <td>20000.0</td>\n",
       "    </tr>\n",
       "  </tbody>\n",
       "</table>\n",
       "<p>6502 rows × 10 columns</p>\n",
       "</div>"
      ],
      "text/plain": [
       "       zipcode    luse1    luse2    luse3    luse4    luse5    luse6  hhsize2  \\\n",
       "15694      1.0  6.56519  6.54247  6.55342  6.48205  6.63068  6.46436        1   \n",
       "15695     28.0  6.72116  6.41114  6.51446  6.76258  6.79575  6.53904        0   \n",
       "15696     53.0  6.23417  5.86228  5.82698  5.91852  5.97916  5.91638        1   \n",
       "15697     49.0  6.68268  6.68307  6.68292  7.04916  7.15573  6.70622        0   \n",
       "15698     25.0  6.31948  6.26554  6.28346  6.48252  6.62744  6.41548        0   \n",
       "...        ...      ...      ...      ...      ...      ...      ...      ...   \n",
       "22191     57.0  7.26979  6.39977  6.17593  6.40754  6.32177  6.31591        0   \n",
       "22192     15.0  7.24002  6.37314  6.14823  5.89936  5.93854  5.90738        0   \n",
       "22193     53.0  7.09888  5.69688  5.63504  5.78927  5.63134  5.76703        0   \n",
       "22194      1.0  7.06204  6.52229  6.17502  6.27571  6.34642  6.39258        0   \n",
       "22195     48.0  6.68336  5.46145  5.34379  6.02156  6.25101  5.65960        0   \n",
       "\n",
       "       income5     size  \n",
       "15694      1.0  10001.0  \n",
       "15695      0.0  10001.0  \n",
       "15696      0.0  10001.0  \n",
       "15697      0.0  10001.0  \n",
       "15698      0.0  10002.0  \n",
       "...        ...      ...  \n",
       "22191      0.0  19996.0  \n",
       "22192      0.0  19996.0  \n",
       "22193      0.0  19999.0  \n",
       "22194      0.0  19999.0  \n",
       "22195      0.0  20000.0  \n",
       "\n",
       "[6502 rows x 10 columns]"
      ]
     },
     "execution_count": 565,
     "metadata": {},
     "output_type": "execute_result"
    }
   ],
   "source": [
    "df_for_training[(df_for_training [\"size\"] > 10000)]"
   ]
  },
  {
   "cell_type": "code",
   "execution_count": 521,
   "id": "4043c55b-1b44-405a-bead-37a96ddb4635",
   "metadata": {},
   "outputs": [],
   "source": [
    "train_data = pd.concat([train_data,train_data[(train_data [\"size\"] < 1000)]])"
   ]
  },
  {
   "cell_type": "code",
   "execution_count": 522,
   "id": "c48eaa2f-158d-404b-85f5-1e1c1acf76c4",
   "metadata": {},
   "outputs": [],
   "source": [
    "train_data = train_data.sample(frac=1, random_state=42)"
   ]
  },
  {
   "cell_type": "code",
   "execution_count": 397,
   "id": "485525b1-9fc1-43aa-89db-bf0897becb77",
   "metadata": {},
   "outputs": [],
   "source": [
    "# df_for_training  = df_for_training .sort_values(by='size', ascending=True)"
   ]
  },
  {
   "cell_type": "code",
   "execution_count": 553,
   "id": "78702e28-2832-4649-974f-5401d63a3244",
   "metadata": {},
   "outputs": [],
   "source": [
    "X,y = df_for_training.iloc[:,:-1],df_for_training.iloc[:,-1]"
   ]
  },
  {
   "cell_type": "code",
   "execution_count": 554,
   "id": "34ec0909-cf12-4565-88c8-14c7e8097763",
   "metadata": {},
   "outputs": [],
   "source": [
    "columns_to_scale = ['luse1','luse2','luse3','luse4','luse5', 'luse6']"
   ]
  },
  {
   "cell_type": "code",
   "execution_count": null,
   "id": "2f38d8c4-4ee1-456d-848d-bb1349a46270",
   "metadata": {},
   "outputs": [],
   "source": [
    "X_train, _, y_train, _ = train_test_split(X, y, test_size=0.2, random_state=42)"
   ]
  },
  {
   "cell_type": "code",
   "execution_count": 555,
   "id": "d8e3f560-5b8b-49d7-b83b-b22258a0e6f0",
   "metadata": {},
   "outputs": [],
   "source": [
    "X_train, X_test, y_train , y_test = train_test_split(X, y, test_size=0.2, random_state=42)"
   ]
  },
  {
   "cell_type": "code",
   "execution_count": 430,
   "id": "a010f3e9-dd59-4b60-9b49-82f7533c8992",
   "metadata": {},
   "outputs": [],
   "source": [
    "special_df = df_for_training.drop_duplicates()"
   ]
  },
  {
   "cell_type": "code",
   "execution_count": 431,
   "id": "1d78a9ee-fbe2-4da2-85d3-62b420ffa808",
   "metadata": {},
   "outputs": [],
   "source": [
    "_, X_test, _ , y_test = train_test_split(special_df.iloc[:,:-1],special_df.iloc[:,-1], test_size=0.25, random_state=42)"
   ]
  },
  {
   "cell_type": "code",
   "execution_count": 558,
   "id": "7678b09c-9a1b-4ee5-ab7f-23fb126a8bb0",
   "metadata": {},
   "outputs": [],
   "source": [
    "X_train_array = X_train.values\n",
    "X_test_array = X_test.values\n",
    "\n",
    "# Check for identical rows between the training and test sets\n",
    "duplicate_rows = [row for row in X_test_array if any((row == X_train_array).all(axis=1))]\n",
    "num_duplicate_rows = len(duplicate_rows)\n"
   ]
  },
  {
   "cell_type": "code",
   "execution_count": 559,
   "id": "9dd8dd0f-9308-4b26-a411-54e4bd15a20f",
   "metadata": {},
   "outputs": [
    {
     "data": {
      "text/plain": [
       "0"
      ]
     },
     "execution_count": 559,
     "metadata": {},
     "output_type": "execute_result"
    }
   ],
   "source": [
    "num_duplicate_rows"
   ]
  },
  {
   "cell_type": "code",
   "execution_count": 436,
   "id": "28214237-3c5c-47f3-b6cd-36004538edcc",
   "metadata": {},
   "outputs": [],
   "source": [
    "test_data = pd.concat([X_test, y_test], axis=1)\n",
    "train_data = pd.concat([X_train, y_train], axis=1)"
   ]
  },
  {
   "cell_type": "code",
   "execution_count": 443,
   "id": "43c199aa-92d5-42da-b6e3-661c303dc2ce",
   "metadata": {},
   "outputs": [],
   "source": [
    "test_data = test_data[~((test_data[\"luse1\"].isin(train_data[\"luse1\"])) &(test_data[\"luse2\"].isin(train_data[\"luse2\"])))]"
   ]
  },
  {
   "cell_type": "code",
   "execution_count": 445,
   "id": "777bc7f2-170a-48ca-b65e-9da43d4d9f73",
   "metadata": {},
   "outputs": [],
   "source": [
    "X_test, y_test = test_data.iloc[:,:-1],test_data.iloc[:,-1]"
   ]
  },
  {
   "cell_type": "code",
   "execution_count": 423,
   "id": "7abddb1c-7bcf-4e46-bea9-aa7f3f1d990f",
   "metadata": {},
   "outputs": [],
   "source": [
    "test_data = pd.concat([X_train, y_train], axis=1)"
   ]
  },
  {
   "cell_type": "code",
   "execution_count": 424,
   "id": "bf4a683d-7e9a-4504-9a0b-b677ecc37fd5",
   "metadata": {},
   "outputs": [],
   "source": [
    "test_data = test_data.drop_duplicates()"
   ]
  },
  {
   "cell_type": "code",
   "execution_count": 425,
   "id": "67228ed2-b2dc-47a8-9441-623c6b49eaaa",
   "metadata": {},
   "outputs": [],
   "source": [
    "X_test, y_test = test_data.iloc[:,:-1],test_data.iloc[:,-1] "
   ]
  },
  {
   "cell_type": "code",
   "execution_count": 451,
   "id": "7f2988eb-60a8-4481-a1da-8d9ca68bc80b",
   "metadata": {},
   "outputs": [],
   "source": [
    "train_data = pd.concat([X_train, y_train], axis=1)\n",
    "interest_data = train_data[train_data[\"size\"] < 100]"
   ]
  },
  {
   "cell_type": "code",
   "execution_count": 457,
   "id": "2c05e610-a08e-4c89-8d2a-c14b33ebfa4e",
   "metadata": {},
   "outputs": [],
   "source": [
    "train_smogn[\"zipcode\"] = round(train_smogn[\"zipcode\"],0)"
   ]
  },
  {
   "cell_type": "code",
   "execution_count": 465,
   "id": "c3239741-542f-4af5-b539-81ff4f611a3d",
   "metadata": {},
   "outputs": [
    {
     "name": "stdout",
     "output_type": "stream",
     "text": [
      "0\n"
     ]
    },
    {
     "name": "stderr",
     "output_type": "stream",
     "text": [
      "dist_matrix: 100%|##########| 501/501 [01:02<00:00,  8.04it/s]\n",
      "r_index: 100%|##########| 50/50 [00:00<00:00, 949.74it/s]\n",
      "dist_matrix: 100%|##########| 481/481 [00:59<00:00,  8.07it/s]\n",
      "r_index: 100%|##########| 96/96 [00:00<00:00, 982.51it/s]\n"
     ]
    },
    {
     "name": "stdout",
     "output_type": "stream",
     "text": [
      "1\n"
     ]
    },
    {
     "name": "stderr",
     "output_type": "stream",
     "text": [
      "dist_matrix: 100%|##########| 187/187 [00:09<00:00, 20.41it/s]\n",
      "synth_matrix: 100%|##########| 187/187 [00:00<00:00, 272.12it/s]\n",
      "r_index: 100%|##########| 37/37 [00:00<00:00, 788.37it/s]\n"
     ]
    },
    {
     "name": "stdout",
     "output_type": "stream",
     "text": [
      "2\n"
     ]
    },
    {
     "name": "stderr",
     "output_type": "stream",
     "text": [
      "dist_matrix: 100%|##########| 785/785 [02:39<00:00,  4.92it/s]\n",
      "r_index: 100%|##########| 235/235 [00:00<00:00, 962.96it/s]\n"
     ]
    },
    {
     "ename": "ValueError",
     "evalue": "oops! synthetic data contains missing values",
     "output_type": "error",
     "traceback": [
      "\u001b[0;31m---------------------------------------------------------------------------\u001b[0m",
      "\u001b[0;31mValueError\u001b[0m                                Traceback (most recent call last)",
      "\u001b[0;32m/var/folders/4v/k7csrcpx6qb36th08xz06g600000gn/T/ipykernel_30968/562660236.py\u001b[0m in \u001b[0;36m<module>\u001b[0;34m\u001b[0m\n\u001b[1;32m      2\u001b[0m \u001b[0;32mfor\u001b[0m \u001b[0mk\u001b[0m \u001b[0;32min\u001b[0m \u001b[0mrange\u001b[0m\u001b[0;34m(\u001b[0m\u001b[0;36m10\u001b[0m\u001b[0;34m)\u001b[0m\u001b[0;34m:\u001b[0m\u001b[0;34m\u001b[0m\u001b[0;34m\u001b[0m\u001b[0m\n\u001b[1;32m      3\u001b[0m     \u001b[0mprint\u001b[0m\u001b[0;34m(\u001b[0m\u001b[0mk\u001b[0m\u001b[0;34m)\u001b[0m\u001b[0;34m\u001b[0m\u001b[0;34m\u001b[0m\u001b[0m\n\u001b[0;32m----> 4\u001b[0;31m     train_smogn = smogn.smoter(\n\u001b[0m\u001b[1;32m      5\u001b[0m         \u001b[0mdata\u001b[0m\u001b[0;34m=\u001b[0m\u001b[0mtrain_smogn\u001b[0m\u001b[0;34m.\u001b[0m\u001b[0mdropna\u001b[0m\u001b[0;34m(\u001b[0m\u001b[0;34m)\u001b[0m\u001b[0;34m.\u001b[0m\u001b[0mreset_index\u001b[0m\u001b[0;34m(\u001b[0m\u001b[0mdrop\u001b[0m\u001b[0;34m=\u001b[0m\u001b[0;32mTrue\u001b[0m\u001b[0;34m)\u001b[0m\u001b[0;34m,\u001b[0m\u001b[0;34m\u001b[0m\u001b[0;34m\u001b[0m\u001b[0m\n\u001b[1;32m      6\u001b[0m         \u001b[0my\u001b[0m\u001b[0;34m=\u001b[0m\u001b[0;34m\"size\"\u001b[0m\u001b[0;34m,\u001b[0m\u001b[0;34m\u001b[0m\u001b[0;34m\u001b[0m\u001b[0m\n",
      "\u001b[0;32m~/opt/anaconda3/lib/python3.9/site-packages/smogn/smoter.py\u001b[0m in \u001b[0;36msmoter\u001b[0;34m(data, y, k, pert, samp_method, under_samp, drop_na_col, drop_na_row, replace, rel_thres, rel_method, rel_xtrm_type, rel_coef, rel_ctrl_pts_rg)\u001b[0m\n\u001b[1;32m    238\u001b[0m             \u001b[0;31m## considered 'minority'\u001b[0m\u001b[0;34m\u001b[0m\u001b[0;34m\u001b[0m\u001b[0m\n\u001b[1;32m    239\u001b[0m             \u001b[0;31m## (see 'over_sampling()' function for details)\u001b[0m\u001b[0;34m\u001b[0m\u001b[0;34m\u001b[0m\u001b[0m\n\u001b[0;32m--> 240\u001b[0;31m             synth_obs = over_sampling(\n\u001b[0m\u001b[1;32m    241\u001b[0m                 \u001b[0mdata\u001b[0m \u001b[0;34m=\u001b[0m \u001b[0mdata\u001b[0m\u001b[0;34m,\u001b[0m\u001b[0;34m\u001b[0m\u001b[0;34m\u001b[0m\u001b[0m\n\u001b[1;32m    242\u001b[0m                 \u001b[0mindex\u001b[0m \u001b[0;34m=\u001b[0m \u001b[0mlist\u001b[0m\u001b[0;34m(\u001b[0m\u001b[0mb_index\u001b[0m\u001b[0;34m[\u001b[0m\u001b[0mi\u001b[0m\u001b[0;34m]\u001b[0m\u001b[0;34m.\u001b[0m\u001b[0mindex\u001b[0m\u001b[0;34m)\u001b[0m\u001b[0;34m,\u001b[0m\u001b[0;34m\u001b[0m\u001b[0;34m\u001b[0m\u001b[0m\n",
      "\u001b[0;32m~/opt/anaconda3/lib/python3.9/site-packages/smogn/over_sampling.py\u001b[0m in \u001b[0;36mover_sampling\u001b[0;34m(data, index, perc, pert, k)\u001b[0m\n\u001b[1;32m    429\u001b[0m     \u001b[0;31m## synthetic data quality check\u001b[0m\u001b[0;34m\u001b[0m\u001b[0;34m\u001b[0m\u001b[0m\n\u001b[1;32m    430\u001b[0m     \u001b[0;32mif\u001b[0m \u001b[0msum\u001b[0m\u001b[0;34m(\u001b[0m\u001b[0mdata_new\u001b[0m\u001b[0;34m.\u001b[0m\u001b[0misnull\u001b[0m\u001b[0;34m(\u001b[0m\u001b[0;34m)\u001b[0m\u001b[0;34m.\u001b[0m\u001b[0msum\u001b[0m\u001b[0;34m(\u001b[0m\u001b[0;34m)\u001b[0m\u001b[0;34m)\u001b[0m \u001b[0;34m>\u001b[0m \u001b[0;36m0\u001b[0m\u001b[0;34m:\u001b[0m\u001b[0;34m\u001b[0m\u001b[0;34m\u001b[0m\u001b[0m\n\u001b[0;32m--> 431\u001b[0;31m         \u001b[0;32mraise\u001b[0m \u001b[0mValueError\u001b[0m\u001b[0;34m(\u001b[0m\u001b[0;34m\"oops! synthetic data contains missing values\"\u001b[0m\u001b[0;34m)\u001b[0m\u001b[0;34m\u001b[0m\u001b[0;34m\u001b[0m\u001b[0m\n\u001b[0m\u001b[1;32m    432\u001b[0m \u001b[0;34m\u001b[0m\u001b[0m\n\u001b[1;32m    433\u001b[0m     \u001b[0;31m## replace label encoded values with original values\u001b[0m\u001b[0;34m\u001b[0m\u001b[0;34m\u001b[0m\u001b[0m\n",
      "\u001b[0;31mValueError\u001b[0m: oops! synthetic data contains missing values"
     ]
    }
   ],
   "source": [
    "train_smogn = train_smogn\n",
    "for k in range(10):\n",
    "    print(k)\n",
    "    train_smogn = smogn.smoter(\n",
    "        data=train_smogn.dropna().reset_index(drop=True),\n",
    "        y=\"size\",\n",
    "        samp_method = 'extreme',# Adjust this parameter based on your dataset characteristics\n",
    "        rel_thres=0.01, # Adjust this parameter based on your desired number of rows\n",
    "        rel_coef = .4\n",
    "    )"
   ]
  },
  {
   "cell_type": "code",
   "execution_count": 467,
   "id": "4e7b2aea-5a02-4d2d-a15b-d1d3a4dbf9d3",
   "metadata": {},
   "outputs": [],
   "source": [
    "train_data = pd.concat([train_data, train_smogn])"
   ]
  },
  {
   "cell_type": "code",
   "execution_count": 497,
   "id": "1fb905b7-37d2-46c2-8e2a-1dbe8f4a2388",
   "metadata": {},
   "outputs": [],
   "source": [
    "train_data = pd.concat([train_data]*5,ignore_index=True)"
   ]
  },
  {
   "cell_type": "code",
   "execution_count": 509,
   "id": "2125115e-5fe0-4068-b581-c564d730c341",
   "metadata": {},
   "outputs": [],
   "source": [
    "train_data = pd.concat([train_data,train_data[train_data[\"size\"] < 10000]])"
   ]
  },
  {
   "cell_type": "code",
   "execution_count": 523,
   "id": "1a9ee276-a282-4e9c-a2b1-0570781e77a4",
   "metadata": {},
   "outputs": [],
   "source": [
    "X_train,y_train =  train_data.iloc[:,:-1],train_data.iloc[:,-1] "
   ]
  },
  {
   "cell_type": "code",
   "execution_count": 76,
   "id": "16f40088-d53b-4be1-ad87-5b8abb1b2e31",
   "metadata": {},
   "outputs": [],
   "source": [
    "X_train = pd.concat([X_train,train_smogn.iloc[:,:-1]])\n",
    "y_train = pd.concat([y_train,train_smogn.iloc[:,-1]])"
   ]
  },
  {
   "cell_type": "code",
   "execution_count": 556,
   "id": "addd35f9-b004-4fc1-ac36-b3e56fb2ac4d",
   "metadata": {},
   "outputs": [],
   "source": [
    "sc_X = StandardScaler()\n",
    "X_train_scaled = sc_X.fit_transform(X_train)\n",
    "X_test_scaled = sc_X.transform(X_test)\n",
    "\n",
    "# Standardize target variable\n",
    "sc_y = StandardScaler()\n",
    "y_train_scaled = sc_y.fit_transform(np.array(y_train).reshape(-1, 1)).ravel()\n",
    "y_test_scaled = sc_y.transform(np.array(y_test).reshape(-1, 1)).ravel()"
   ]
  },
  {
   "cell_type": "code",
   "execution_count": 561,
   "id": "d3c7977a-77ea-46d4-8bae-c7372a701385",
   "metadata": {},
   "outputs": [
    {
     "data": {
      "text/html": [
       "<div>\n",
       "<style scoped>\n",
       "    .dataframe tbody tr th:only-of-type {\n",
       "        vertical-align: middle;\n",
       "    }\n",
       "\n",
       "    .dataframe tbody tr th {\n",
       "        vertical-align: top;\n",
       "    }\n",
       "\n",
       "    .dataframe thead th {\n",
       "        text-align: right;\n",
       "    }\n",
       "</style>\n",
       "<table border=\"1\" class=\"dataframe\">\n",
       "  <thead>\n",
       "    <tr style=\"text-align: right;\">\n",
       "      <th></th>\n",
       "      <th>zipcode</th>\n",
       "      <th>luse1</th>\n",
       "      <th>luse2</th>\n",
       "      <th>luse3</th>\n",
       "      <th>luse4</th>\n",
       "      <th>luse5</th>\n",
       "      <th>luse6</th>\n",
       "      <th>hhsize2</th>\n",
       "      <th>income5</th>\n",
       "    </tr>\n",
       "  </thead>\n",
       "  <tbody>\n",
       "    <tr>\n",
       "      <th>1023</th>\n",
       "      <td>28.0</td>\n",
       "      <td>6.32273</td>\n",
       "      <td>6.79794</td>\n",
       "      <td>7.02182</td>\n",
       "      <td>7.01543</td>\n",
       "      <td>6.98099</td>\n",
       "      <td>6.77289</td>\n",
       "      <td>0</td>\n",
       "      <td>0.0</td>\n",
       "    </tr>\n",
       "    <tr>\n",
       "      <th>19658</th>\n",
       "      <td>28.0</td>\n",
       "      <td>6.69036</td>\n",
       "      <td>6.18682</td>\n",
       "      <td>6.06512</td>\n",
       "      <td>6.15312</td>\n",
       "      <td>6.19137</td>\n",
       "      <td>6.29316</td>\n",
       "      <td>1</td>\n",
       "      <td>0.0</td>\n",
       "    </tr>\n",
       "    <tr>\n",
       "      <th>20960</th>\n",
       "      <td>28.0</td>\n",
       "      <td>6.46751</td>\n",
       "      <td>6.38760</td>\n",
       "      <td>6.23858</td>\n",
       "      <td>6.21871</td>\n",
       "      <td>6.27220</td>\n",
       "      <td>6.34826</td>\n",
       "      <td>0</td>\n",
       "      <td>0.0</td>\n",
       "    </tr>\n",
       "    <tr>\n",
       "      <th>16760</th>\n",
       "      <td>57.0</td>\n",
       "      <td>6.53130</td>\n",
       "      <td>6.60923</td>\n",
       "      <td>6.56182</td>\n",
       "      <td>6.55031</td>\n",
       "      <td>6.61419</td>\n",
       "      <td>6.46748</td>\n",
       "      <td>0</td>\n",
       "      <td>0.0</td>\n",
       "    </tr>\n",
       "    <tr>\n",
       "      <th>5216</th>\n",
       "      <td>28.0</td>\n",
       "      <td>6.71495</td>\n",
       "      <td>6.86177</td>\n",
       "      <td>7.20657</td>\n",
       "      <td>7.50359</td>\n",
       "      <td>7.43210</td>\n",
       "      <td>7.08994</td>\n",
       "      <td>1</td>\n",
       "      <td>0.0</td>\n",
       "    </tr>\n",
       "    <tr>\n",
       "      <th>...</th>\n",
       "      <td>...</td>\n",
       "      <td>...</td>\n",
       "      <td>...</td>\n",
       "      <td>...</td>\n",
       "      <td>...</td>\n",
       "      <td>...</td>\n",
       "      <td>...</td>\n",
       "      <td>...</td>\n",
       "      <td>...</td>\n",
       "    </tr>\n",
       "    <tr>\n",
       "      <th>11964</th>\n",
       "      <td>28.0</td>\n",
       "      <td>6.43909</td>\n",
       "      <td>6.41623</td>\n",
       "      <td>6.49749</td>\n",
       "      <td>6.89089</td>\n",
       "      <td>6.95519</td>\n",
       "      <td>6.52485</td>\n",
       "      <td>0</td>\n",
       "      <td>0.0</td>\n",
       "    </tr>\n",
       "    <tr>\n",
       "      <th>21575</th>\n",
       "      <td>28.0</td>\n",
       "      <td>5.53634</td>\n",
       "      <td>5.52054</td>\n",
       "      <td>5.26828</td>\n",
       "      <td>5.47660</td>\n",
       "      <td>5.72912</td>\n",
       "      <td>5.38128</td>\n",
       "      <td>0</td>\n",
       "      <td>0.0</td>\n",
       "    </tr>\n",
       "    <tr>\n",
       "      <th>5390</th>\n",
       "      <td>1.0</td>\n",
       "      <td>6.15804</td>\n",
       "      <td>6.25026</td>\n",
       "      <td>6.43590</td>\n",
       "      <td>6.65446</td>\n",
       "      <td>6.92746</td>\n",
       "      <td>6.35458</td>\n",
       "      <td>0</td>\n",
       "      <td>0.0</td>\n",
       "    </tr>\n",
       "    <tr>\n",
       "      <th>860</th>\n",
       "      <td>42.0</td>\n",
       "      <td>6.54416</td>\n",
       "      <td>6.85558</td>\n",
       "      <td>7.14551</td>\n",
       "      <td>7.25405</td>\n",
       "      <td>7.22411</td>\n",
       "      <td>6.88131</td>\n",
       "      <td>0</td>\n",
       "      <td>0.0</td>\n",
       "    </tr>\n",
       "    <tr>\n",
       "      <th>15795</th>\n",
       "      <td>42.0</td>\n",
       "      <td>5.71567</td>\n",
       "      <td>5.67007</td>\n",
       "      <td>5.68338</td>\n",
       "      <td>5.79229</td>\n",
       "      <td>5.88942</td>\n",
       "      <td>5.77817</td>\n",
       "      <td>0</td>\n",
       "      <td>0.0</td>\n",
       "    </tr>\n",
       "  </tbody>\n",
       "</table>\n",
       "<p>17756 rows × 9 columns</p>\n",
       "</div>"
      ],
      "text/plain": [
       "       zipcode    luse1    luse2    luse3    luse4    luse5    luse6  hhsize2  \\\n",
       "1023      28.0  6.32273  6.79794  7.02182  7.01543  6.98099  6.77289        0   \n",
       "19658     28.0  6.69036  6.18682  6.06512  6.15312  6.19137  6.29316        1   \n",
       "20960     28.0  6.46751  6.38760  6.23858  6.21871  6.27220  6.34826        0   \n",
       "16760     57.0  6.53130  6.60923  6.56182  6.55031  6.61419  6.46748        0   \n",
       "5216      28.0  6.71495  6.86177  7.20657  7.50359  7.43210  7.08994        1   \n",
       "...        ...      ...      ...      ...      ...      ...      ...      ...   \n",
       "11964     28.0  6.43909  6.41623  6.49749  6.89089  6.95519  6.52485        0   \n",
       "21575     28.0  5.53634  5.52054  5.26828  5.47660  5.72912  5.38128        0   \n",
       "5390       1.0  6.15804  6.25026  6.43590  6.65446  6.92746  6.35458        0   \n",
       "860       42.0  6.54416  6.85558  7.14551  7.25405  7.22411  6.88131        0   \n",
       "15795     42.0  5.71567  5.67007  5.68338  5.79229  5.88942  5.77817        0   \n",
       "\n",
       "       income5  \n",
       "1023       0.0  \n",
       "19658      0.0  \n",
       "20960      0.0  \n",
       "16760      0.0  \n",
       "5216       0.0  \n",
       "...        ...  \n",
       "11964      0.0  \n",
       "21575      0.0  \n",
       "5390       0.0  \n",
       "860        0.0  \n",
       "15795      0.0  \n",
       "\n",
       "[17756 rows x 9 columns]"
      ]
     },
     "execution_count": 561,
     "metadata": {},
     "output_type": "execute_result"
    }
   ],
   "source": [
    "X_train"
   ]
  },
  {
   "cell_type": "code",
   "execution_count": 557,
   "id": "98815b83-0a58-4ad8-900d-fbac02441602",
   "metadata": {},
   "outputs": [
    {
     "name": "stdout",
     "output_type": "stream",
     "text": [
      "Mean Squared Error: 1060790.2875556508\n"
     ]
    }
   ],
   "source": [
    "# Specify hyperparameters\n",
    "xgb_reg = XGBRegressor(\n",
    "    objective='reg:squarederror', \n",
    "    max_depth=50, \n",
    "    learning_rate=0.1, \n",
    "    n_estimators=300\n",
    ")\n",
    "\n",
    "# Train the XGBoost model\n",
    "xgb_reg.fit(X_train_scaled, y_train_scaled )\n",
    "\n",
    "# Make predictions on the test set\n",
    "y_pred_xgb = xgb_reg.predict(X_test_scaled)\n",
    "\n",
    "# Evaluate the model\n",
    "mse = mean_squared_error(sc_y.inverse_transform([y_test_scaled]), sc_y.inverse_transform([y_pred_xgb]))\n",
    "print(f'Mean Squared Error: {mse}')"
   ]
  },
  {
   "cell_type": "code",
   "execution_count": 566,
   "id": "f2edcae3-ca3c-4f96-9a8b-cc0ad1df848c",
   "metadata": {},
   "outputs": [],
   "source": [
    "# for l,m in zip(sc_y.inverse_transform([y_pred_xgb])[0],sc_y.inverse_transform([y_test_scaled])[0]):\n",
    "#     print(l,m)"
   ]
  },
  {
   "cell_type": "code",
   "execution_count": 255,
   "id": "97174a84-aec9-4f22-93cb-f423e7cc7ef4",
   "metadata": {},
   "outputs": [
    {
     "data": {
      "image/png": "[encoded data removed]",
      "text/plain": [
       "<Figure size 640x480 with 1 Axes>"
      ]
     },
     "metadata": {},
     "output_type": "display_data"
    }
   ],
   "source": [
    "feature_importances = xgb_reg.feature_importances_\n",
    "feature_names = X.columns\n",
    "\n",
    "# Create a dictionary to store feature names and their importances\n",
    "feature_importance_dict = dict(zip(feature_names, feature_importances))\n",
    "\n",
    "# Sort features based on importance in descending order\n",
    "sorted_features = sorted(feature_importance_dict.items(), key=lambda x: x[1], reverse=True)\n",
    "\n",
    "# Extract sorted feature names and importances\n",
    "sorted_feature_names, sorted_feature_importances = zip(*sorted_features)\n",
    "\n",
    "# Create a bar plot to visualize sorted feature importances\n",
    "plt.bar(sorted_feature_names, sorted_feature_importances)\n",
    "plt.xlabel('Features')\n",
    "plt.ylabel('Importance')\n",
    "plt.title('Feature Importance (Sorted)')\n",
    "plt.xticks(rotation=45, ha='right')  # Rotate x-axis labels for better visibility\n",
    "plt.show()"
   ]
  },
  {
   "cell_type": "code",
   "execution_count": null,
   "id": "f090eff4-2fee-4720-9206-0ab96b070a03",
   "metadata": {},
   "outputs": [],
   "source": []
  },
  {
   "cell_type": "code",
   "execution_count": 170,
   "id": "df125e6c-09bc-484e-802a-5ba154046ca3",
   "metadata": {},
   "outputs": [],
   "source": [
    "# for k,l,m in zip(sc_y.inverse_transform([y_pred])[0],sc_y.inverse_transform([y_pred_xgb])[0],sc_y.inverse_transform([y_test_scaled])[0]):\n",
    "#     print(k,l,m)"
   ]
  },
  {
   "cell_type": "code",
   "execution_count": 769,
   "id": "da405b14-1313-4bcd-81fe-0d14d5111b45",
   "metadata": {},
   "outputs": [],
   "source": [
    "# Standardize the selected columns\n",
    "scaler_x = StandardScaler()\n",
    "X_train[columns_to_scale] = scaler_x.fit_transform(X_train[columns_to_scale])\n",
    "X_test[columns_to_scale] = scaler_x.transform(X_test[columns_to_scale])\n",
    "\n",
    "scaler_y = StandardScaler()\n",
    "y_train = scaler_y.fit_transform(np.array(y_train).reshape(-1, 1)).ravel()\n",
    "y_test = scaler_y.transform(np.array(y_test).reshape(-1, 1)).ravel()"
   ]
  },
  {
   "cell_type": "code",
   "execution_count": 770,
   "id": "a6e59df8-ce52-4675-8b11-ee147fa75508",
   "metadata": {},
   "outputs": [
    {
     "data": {
      "text/plain": [
       "RandomForestRegressor(max_depth=30, n_estimators=300, random_state=0)"
      ]
     },
     "execution_count": 770,
     "metadata": {},
     "output_type": "execute_result"
    }
   ],
   "source": [
    "model = RandomForestRegressor(max_depth = 30,max_features = 'auto',min_samples_leaf = 1,min_samples_split = 2,n_estimators = 300, random_state = 0)\n",
    "model.fit(X_train, y_train)"
   ]
  },
  {
   "cell_type": "code",
   "execution_count": 256,
   "id": "602825d6-7e26-4078-8f94-b145627fdcef",
   "metadata": {},
   "outputs": [
    {
     "ename": "ValueError",
     "evalue": "Input contains NaN, infinity or a value too large for dtype('float32').",
     "output_type": "error",
     "traceback": [
      "\u001b[0;31m---------------------------------------------------------------------------\u001b[0m",
      "\u001b[0;31mValueError\u001b[0m                                Traceback (most recent call last)",
      "\u001b[0;32m/var/folders/4v/k7csrcpx6qb36th08xz06g600000gn/T/ipykernel_30968/655246153.py\u001b[0m in \u001b[0;36m<module>\u001b[0;34m\u001b[0m\n\u001b[1;32m      1\u001b[0m \u001b[0mmodel\u001b[0m \u001b[0;34m=\u001b[0m \u001b[0mRandomForestRegressor\u001b[0m\u001b[0;34m(\u001b[0m\u001b[0mmax_depth\u001b[0m \u001b[0;34m=\u001b[0m \u001b[0;36m50\u001b[0m\u001b[0;34m,\u001b[0m\u001b[0mmax_features\u001b[0m \u001b[0;34m=\u001b[0m \u001b[0;34m'auto'\u001b[0m\u001b[0;34m,\u001b[0m\u001b[0mmin_samples_leaf\u001b[0m \u001b[0;34m=\u001b[0m \u001b[0;36m1\u001b[0m\u001b[0;34m,\u001b[0m\u001b[0mmin_samples_split\u001b[0m \u001b[0;34m=\u001b[0m \u001b[0;36m2\u001b[0m\u001b[0;34m,\u001b[0m\u001b[0mn_estimators\u001b[0m \u001b[0;34m=\u001b[0m \u001b[0;36m300\u001b[0m\u001b[0;34m,\u001b[0m \u001b[0mrandom_state\u001b[0m \u001b[0;34m=\u001b[0m \u001b[0;36m0\u001b[0m\u001b[0;34m)\u001b[0m\u001b[0;34m\u001b[0m\u001b[0;34m\u001b[0m\u001b[0m\n\u001b[0;32m----> 2\u001b[0;31m \u001b[0mmodel\u001b[0m\u001b[0;34m.\u001b[0m\u001b[0mfit\u001b[0m\u001b[0;34m(\u001b[0m\u001b[0mX_train_scaled\u001b[0m\u001b[0;34m,\u001b[0m \u001b[0my_train_scaled\u001b[0m \u001b[0;34m)\u001b[0m\u001b[0;34m\u001b[0m\u001b[0;34m\u001b[0m\u001b[0m\n\u001b[0m",
      "\u001b[0;32m~/opt/anaconda3/lib/python3.9/site-packages/sklearn/ensemble/_forest.py\u001b[0m in \u001b[0;36mfit\u001b[0;34m(self, X, y, sample_weight)\u001b[0m\n\u001b[1;32m    325\u001b[0m         \u001b[0;32mif\u001b[0m \u001b[0missparse\u001b[0m\u001b[0;34m(\u001b[0m\u001b[0my\u001b[0m\u001b[0;34m)\u001b[0m\u001b[0;34m:\u001b[0m\u001b[0;34m\u001b[0m\u001b[0;34m\u001b[0m\u001b[0m\n\u001b[1;32m    326\u001b[0m             \u001b[0;32mraise\u001b[0m \u001b[0mValueError\u001b[0m\u001b[0;34m(\u001b[0m\u001b[0;34m\"sparse multilabel-indicator for y is not supported.\"\u001b[0m\u001b[0;34m)\u001b[0m\u001b[0;34m\u001b[0m\u001b[0;34m\u001b[0m\u001b[0m\n\u001b[0;32m--> 327\u001b[0;31m         X, y = self._validate_data(\n\u001b[0m\u001b[1;32m    328\u001b[0m             \u001b[0mX\u001b[0m\u001b[0;34m,\u001b[0m \u001b[0my\u001b[0m\u001b[0;34m,\u001b[0m \u001b[0mmulti_output\u001b[0m\u001b[0;34m=\u001b[0m\u001b[0;32mTrue\u001b[0m\u001b[0;34m,\u001b[0m \u001b[0maccept_sparse\u001b[0m\u001b[0;34m=\u001b[0m\u001b[0;34m\"csc\"\u001b[0m\u001b[0;34m,\u001b[0m \u001b[0mdtype\u001b[0m\u001b[0;34m=\u001b[0m\u001b[0mDTYPE\u001b[0m\u001b[0;34m\u001b[0m\u001b[0;34m\u001b[0m\u001b[0m\n\u001b[1;32m    329\u001b[0m         )\n",
      "\u001b[0;32m~/opt/anaconda3/lib/python3.9/site-packages/sklearn/base.py\u001b[0m in \u001b[0;36m_validate_data\u001b[0;34m(self, X, y, reset, validate_separately, **check_params)\u001b[0m\n\u001b[1;32m    579\u001b[0m                 \u001b[0my\u001b[0m \u001b[0;34m=\u001b[0m \u001b[0mcheck_array\u001b[0m\u001b[0;34m(\u001b[0m\u001b[0my\u001b[0m\u001b[0;34m,\u001b[0m \u001b[0;34m**\u001b[0m\u001b[0mcheck_y_params\u001b[0m\u001b[0;34m)\u001b[0m\u001b[0;34m\u001b[0m\u001b[0;34m\u001b[0m\u001b[0m\n\u001b[1;32m    580\u001b[0m             \u001b[0;32melse\u001b[0m\u001b[0;34m:\u001b[0m\u001b[0;34m\u001b[0m\u001b[0;34m\u001b[0m\u001b[0m\n\u001b[0;32m--> 581\u001b[0;31m                 \u001b[0mX\u001b[0m\u001b[0;34m,\u001b[0m \u001b[0my\u001b[0m \u001b[0;34m=\u001b[0m \u001b[0mcheck_X_y\u001b[0m\u001b[0;34m(\u001b[0m\u001b[0mX\u001b[0m\u001b[0;34m,\u001b[0m \u001b[0my\u001b[0m\u001b[0;34m,\u001b[0m \u001b[0;34m**\u001b[0m\u001b[0mcheck_params\u001b[0m\u001b[0;34m)\u001b[0m\u001b[0;34m\u001b[0m\u001b[0;34m\u001b[0m\u001b[0m\n\u001b[0m\u001b[1;32m    582\u001b[0m             \u001b[0mout\u001b[0m \u001b[0;34m=\u001b[0m \u001b[0mX\u001b[0m\u001b[0;34m,\u001b[0m \u001b[0my\u001b[0m\u001b[0;34m\u001b[0m\u001b[0;34m\u001b[0m\u001b[0m\n\u001b[1;32m    583\u001b[0m \u001b[0;34m\u001b[0m\u001b[0m\n",
      "\u001b[0;32m~/opt/anaconda3/lib/python3.9/site-packages/sklearn/utils/validation.py\u001b[0m in \u001b[0;36mcheck_X_y\u001b[0;34m(X, y, accept_sparse, accept_large_sparse, dtype, order, copy, force_all_finite, ensure_2d, allow_nd, multi_output, ensure_min_samples, ensure_min_features, y_numeric, estimator)\u001b[0m\n\u001b[1;32m    962\u001b[0m         \u001b[0;32mraise\u001b[0m \u001b[0mValueError\u001b[0m\u001b[0;34m(\u001b[0m\u001b[0;34m\"y cannot be None\"\u001b[0m\u001b[0;34m)\u001b[0m\u001b[0;34m\u001b[0m\u001b[0;34m\u001b[0m\u001b[0m\n\u001b[1;32m    963\u001b[0m \u001b[0;34m\u001b[0m\u001b[0m\n\u001b[0;32m--> 964\u001b[0;31m     X = check_array(\n\u001b[0m\u001b[1;32m    965\u001b[0m         \u001b[0mX\u001b[0m\u001b[0;34m,\u001b[0m\u001b[0;34m\u001b[0m\u001b[0;34m\u001b[0m\u001b[0m\n\u001b[1;32m    966\u001b[0m         \u001b[0maccept_sparse\u001b[0m\u001b[0;34m=\u001b[0m\u001b[0maccept_sparse\u001b[0m\u001b[0;34m,\u001b[0m\u001b[0;34m\u001b[0m\u001b[0;34m\u001b[0m\u001b[0m\n",
      "\u001b[0;32m~/opt/anaconda3/lib/python3.9/site-packages/sklearn/utils/validation.py\u001b[0m in \u001b[0;36mcheck_array\u001b[0;34m(array, accept_sparse, accept_large_sparse, dtype, order, copy, force_all_finite, ensure_2d, allow_nd, ensure_min_samples, ensure_min_features, estimator)\u001b[0m\n\u001b[1;32m    798\u001b[0m \u001b[0;34m\u001b[0m\u001b[0m\n\u001b[1;32m    799\u001b[0m         \u001b[0;32mif\u001b[0m \u001b[0mforce_all_finite\u001b[0m\u001b[0;34m:\u001b[0m\u001b[0;34m\u001b[0m\u001b[0;34m\u001b[0m\u001b[0m\n\u001b[0;32m--> 800\u001b[0;31m             \u001b[0m_assert_all_finite\u001b[0m\u001b[0;34m(\u001b[0m\u001b[0marray\u001b[0m\u001b[0;34m,\u001b[0m \u001b[0mallow_nan\u001b[0m\u001b[0;34m=\u001b[0m\u001b[0mforce_all_finite\u001b[0m \u001b[0;34m==\u001b[0m \u001b[0;34m\"allow-nan\"\u001b[0m\u001b[0;34m)\u001b[0m\u001b[0;34m\u001b[0m\u001b[0;34m\u001b[0m\u001b[0m\n\u001b[0m\u001b[1;32m    801\u001b[0m \u001b[0;34m\u001b[0m\u001b[0m\n\u001b[1;32m    802\u001b[0m     \u001b[0;32mif\u001b[0m \u001b[0mensure_min_samples\u001b[0m \u001b[0;34m>\u001b[0m \u001b[0;36m0\u001b[0m\u001b[0;34m:\u001b[0m\u001b[0;34m\u001b[0m\u001b[0;34m\u001b[0m\u001b[0m\n",
      "\u001b[0;32m~/opt/anaconda3/lib/python3.9/site-packages/sklearn/utils/validation.py\u001b[0m in \u001b[0;36m_assert_all_finite\u001b[0;34m(X, allow_nan, msg_dtype)\u001b[0m\n\u001b[1;32m    112\u001b[0m         ):\n\u001b[1;32m    113\u001b[0m             \u001b[0mtype_err\u001b[0m \u001b[0;34m=\u001b[0m \u001b[0;34m\"infinity\"\u001b[0m \u001b[0;32mif\u001b[0m \u001b[0mallow_nan\u001b[0m \u001b[0;32melse\u001b[0m \u001b[0;34m\"NaN, infinity\"\u001b[0m\u001b[0;34m\u001b[0m\u001b[0;34m\u001b[0m\u001b[0m\n\u001b[0;32m--> 114\u001b[0;31m             raise ValueError(\n\u001b[0m\u001b[1;32m    115\u001b[0m                 msg_err.format(\n\u001b[1;32m    116\u001b[0m                     \u001b[0mtype_err\u001b[0m\u001b[0;34m,\u001b[0m \u001b[0mmsg_dtype\u001b[0m \u001b[0;32mif\u001b[0m \u001b[0mmsg_dtype\u001b[0m \u001b[0;32mis\u001b[0m \u001b[0;32mnot\u001b[0m \u001b[0;32mNone\u001b[0m \u001b[0;32melse\u001b[0m \u001b[0mX\u001b[0m\u001b[0;34m.\u001b[0m\u001b[0mdtype\u001b[0m\u001b[0;34m\u001b[0m\u001b[0;34m\u001b[0m\u001b[0m\n",
      "\u001b[0;31mValueError\u001b[0m: Input contains NaN, infinity or a value too large for dtype('float32')."
     ]
    }
   ],
   "source": [
    "model = RandomForestRegressor(max_depth = 50,max_features = 'auto',min_samples_leaf = 1,min_samples_split = 2,n_estimators = 300, random_state = 0)\n",
    "model.fit(X_train_scaled, y_train_scaled )"
   ]
  },
  {
   "cell_type": "code",
   "execution_count": 79,
   "id": "5f8f82f5-7907-40b1-8080-74b91310c1ac",
   "metadata": {},
   "outputs": [
    {
     "data": {
      "text/plain": [
       "AdaBoostRegressor(base_estimator=RandomForestRegressor(max_depth=50,\n",
       "                                                       n_estimators=300,\n",
       "                                                       random_state=0),\n",
       "                  learning_rate=0.1, random_state=42)"
      ]
     },
     "execution_count": 79,
     "metadata": {},
     "output_type": "execute_result"
    }
   ],
   "source": [
    "adaboost_rf_model = AdaBoostRegressor(base_estimator=model, n_estimators=5, learning_rate=0.1, random_state=42)\n",
    "adaboost_rf_model.fit(X_train_scaled, y_train_scaled )\n"
   ]
  },
  {
   "cell_type": "code",
   "execution_count": 80,
   "id": "50485f46-8eca-4f03-9a1d-a6a70523925c",
   "metadata": {},
   "outputs": [
    {
     "name": "stdout",
     "output_type": "stream",
     "text": [
      "Mean Squared Error: 1041977.6085447167\n"
     ]
    }
   ],
   "source": [
    "# Predict on the test set\n",
    "y_pred = adaboost_rf_model.predict(X_test_scaled)\n",
    "\n",
    "# Evaluate model performance\n",
    "mse = mean_squared_error(sc_y.inverse_transform([y_test_scaled]), sc_y.inverse_transform([y_pred]))\n",
    "print(f'Mean Squared Error: {mse}')"
   ]
  },
  {
   "cell_type": "code",
   "execution_count": 81,
   "id": "8db6cc0e-15dc-4408-af62-d1ed4be14517",
   "metadata": {},
   "outputs": [
    {
     "data": {
      "image/png": "[encoded data removed]",
      "text/plain": [
       "<Figure size 640x480 with 1 Axes>"
      ]
     },
     "metadata": {},
     "output_type": "display_data"
    }
   ],
   "source": [
    "feature_importances = adaboost_rf_model.feature_importances_\n",
    "feature_names = X.columns\n",
    "\n",
    "# Create a dictionary to store feature names and their importances\n",
    "feature_importance_dict = dict(zip(feature_names, feature_importances))\n",
    "\n",
    "# Sort features based on importance in descending order\n",
    "sorted_features = sorted(feature_importance_dict.items(), key=lambda x: x[1], reverse=True)\n",
    "\n",
    "# Extract sorted feature names and importances\n",
    "sorted_feature_names, sorted_feature_importances = zip(*sorted_features)\n",
    "\n",
    "# Create a bar plot to visualize sorted feature importances\n",
    "plt.bar(sorted_feature_names, sorted_feature_importances)\n",
    "plt.xlabel('Features')\n",
    "plt.ylabel('Importance')\n",
    "plt.title('Feature Importance (Sorted)')\n",
    "plt.xticks(rotation=45, ha='right')  # Rotate x-axis labels for better visibility\n",
    "plt.show()"
   ]
  },
  {
   "cell_type": "code",
   "execution_count": 62,
   "id": "7e9fc1d7-98b7-4c32-94ce-69c11702ebc7",
   "metadata": {},
   "outputs": [
    {
     "data": {
      "text/plain": [
       "('luse1',\n",
       " 'luse3',\n",
       " 'luse4',\n",
       " 'income5',\n",
       " 'luse2',\n",
       " 'hhsize2',\n",
       " 'luse5',\n",
       " 'luse6',\n",
       " 'zipcode',\n",
       " 'children',\n",
       " 'owner',\n",
       " 'income6',\n",
       " 'hhsize3',\n",
       " 'income7',\n",
       " 'hhsize4',\n",
       " 'income3',\n",
       " 'income4',\n",
       " 'hhsize5',\n",
       " 'income9',\n",
       " 'hhsize5plus',\n",
       " 'income2',\n",
       " 'income8')"
      ]
     },
     "execution_count": 62,
     "metadata": {},
     "output_type": "execute_result"
    }
   ],
   "source": [
    "sorted_feature_names"
   ]
  },
  {
   "cell_type": "code",
   "execution_count": 60,
   "id": "5ec5eb4d-37b0-4aad-a1d6-e376ee9475da",
   "metadata": {},
   "outputs": [],
   "source": [
    "# for i,k in zip(sc_y.inverse_transform([y_test_scaled])[0], sc_y.inverse_transform([y_pred])[0]):\n",
    "#     print(i,k)"
   ]
  },
  {
   "cell_type": "code",
   "execution_count": 53,
   "id": "e48d31c5-7e80-442c-99e9-e64f92ea52b1",
   "metadata": {},
   "outputs": [
    {
     "name": "stdout",
     "output_type": "stream",
     "text": [
      "Mean Squared Error: 1158922.6773490037\n"
     ]
    }
   ],
   "source": [
    "# Predict on the test set\n",
    "y_pred = model.predict(X_test_scaled)\n",
    "\n",
    "# Evaluate model performance\n",
    "mse = mean_squared_error(sc_y.inverse_transform([y_test_scaled]), sc_y.inverse_transform([y_pred]))\n",
    "print(f'Mean Squared Error: {mse}')"
   ]
  },
  {
   "cell_type": "code",
   "execution_count": 384,
   "id": "636b13d0-b5e3-4b3a-b164-1f6d10f98ed5",
   "metadata": {},
   "outputs": [
    {
     "name": "stdout",
     "output_type": "stream",
     "text": [
      "Median Absolute Error: 370.9759749006142\n"
     ]
    }
   ],
   "source": [
    "from sklearn.metrics import median_absolute_error\n",
    "\n",
    "medae = median_absolute_error(sc_y.inverse_transform([y_test_scaled]), sc_y.inverse_transform([y_pred_xgb]))\n",
    "print(f'Median Absolute Error: {medae}')"
   ]
  },
  {
   "cell_type": "code",
   "execution_count": 771,
   "id": "8a6f8c34-7c9b-4407-b777-a9334268d719",
   "metadata": {},
   "outputs": [],
   "source": [
    "# Predict on the test set\n",
    "y_pred = model.predict(X_test)"
   ]
  },
  {
   "cell_type": "code",
   "execution_count": 609,
   "id": "c5d0d163-4f31-426c-a650-6139d047d440",
   "metadata": {},
   "outputs": [
    {
     "name": "stdout",
     "output_type": "stream",
     "text": [
      "Mean Squared Error: 75546463.36608055\n"
     ]
    }
   ],
   "source": [
    "# Evaluate model performance\n",
    "mse = mean_squared_error(y_test, y_pred)\n",
    "print(f'Mean Squared Error: {mse}')"
   ]
  },
  {
   "cell_type": "code",
   "execution_count": 772,
   "id": "334fde40-f4a9-4406-986c-39e90aaa23a1",
   "metadata": {},
   "outputs": [
    {
     "name": "stdout",
     "output_type": "stream",
     "text": [
      "Mean Squared Error: 1128379.5443577056\n"
     ]
    }
   ],
   "source": [
    "\n",
    "# Evaluate model performance\n",
    "mse = mean_squared_error(scaler_y.inverse_transform([y_test]), scaler_y.inverse_transform([y_pred]))\n",
    "print(f'Mean Squared Error: {mse}')"
   ]
  },
  {
   "cell_type": "code",
   "execution_count": 415,
   "id": "39cbb5ef-4d34-4dc4-b4b2-fa091d486a4b",
   "metadata": {},
   "outputs": [
    {
     "data": {
      "text/plain": [
       "array([[ 311., 3558., 6159., ..., 5312., 4182., 6800.]])"
      ]
     },
     "execution_count": 415,
     "metadata": {},
     "output_type": "execute_result"
    }
   ],
   "source": [
    "scaler_y.inverse_transform([y_test])"
   ]
  },
  {
   "cell_type": "code",
   "execution_count": 414,
   "id": "65510173-e86d-4457-9317-1a517b5d4b42",
   "metadata": {},
   "outputs": [
    {
     "data": {
      "text/plain": [
       "array([[ 346.13987786, 3558.        , 6156.85826304, ..., 5274.60399335,\n",
       "        4203.66164896, 6766.91411907]])"
      ]
     },
     "execution_count": 414,
     "metadata": {},
     "output_type": "execute_result"
    }
   ],
   "source": [
    "scaler_y.inverse_transform([y_pred])"
   ]
  },
  {
   "cell_type": "code",
   "execution_count": 612,
   "id": "a4cfca21-33ff-46b2-9a5b-e7c315009028",
   "metadata": {},
   "outputs": [],
   "source": [
    "# for p,r in zip(scaler_y.inverse_transform([y_test])[0], scaler_y.inverse_transform([y_pred])[0]):\n",
    "#     if abs(p-r) > 1000:\n",
    "#         print(p,r)"
   ]
  },
  {
   "cell_type": "code",
   "execution_count": 613,
   "id": "e33b42f8-1519-4ad6-8e7c-0ebe2909b272",
   "metadata": {},
   "outputs": [
    {
     "data": {
      "image/png": "[encoded data removed]",
      "text/plain": [
       "<Figure size 640x480 with 1 Axes>"
      ]
     },
     "metadata": {},
     "output_type": "display_data"
    }
   ],
   "source": []
  },
  {
   "cell_type": "code",
   "execution_count": 614,
   "id": "78bfe1e1-3782-4510-8f94-697743c42a6d",
   "metadata": {},
   "outputs": [
    {
     "data": {
      "text/plain": [
       "('luse1',\n",
       " 'luse4',\n",
       " 'luse3',\n",
       " 'income5',\n",
       " 'luse2',\n",
       " 'hhsize2',\n",
       " 'luse5',\n",
       " 'luse6',\n",
       " 'zipcode',\n",
       " 'children',\n",
       " 'owner',\n",
       " 'income6',\n",
       " 'hhsize3',\n",
       " 'income7',\n",
       " 'hhsize4',\n",
       " 'income3',\n",
       " 'income4',\n",
       " 'hhsize5',\n",
       " 'income2',\n",
       " 'hhsize5plus',\n",
       " 'income9',\n",
       " 'income8')"
      ]
     },
     "execution_count": 614,
     "metadata": {},
     "output_type": "execute_result"
    }
   ],
   "source": [
    "sorted_feature_names"
   ]
  },
  {
   "cell_type": "code",
   "execution_count": null,
   "id": "057ab81c-482e-44ab-b915-052025e7e1a7",
   "metadata": {},
   "outputs": [],
   "source": []
  },
  {
   "cell_type": "code",
   "execution_count": null,
   "id": "feb04826-9a1e-43e1-aad7-3d9328db6dc7",
   "metadata": {},
   "outputs": [],
   "source": []
  },
  {
   "cell_type": "code",
   "execution_count": null,
   "id": "38b6dba7-a9d8-4e84-b4d1-90ccd152afab",
   "metadata": {},
   "outputs": [],
   "source": []
  },
  {
   "cell_type": "code",
   "execution_count": null,
   "id": "ac336687-a1a7-44b6-910c-8683ddcb24fa",
   "metadata": {},
   "outputs": [],
   "source": []
  },
  {
   "cell_type": "code",
   "execution_count": null,
   "id": "1062e16b-48cb-4a30-93f9-71f61e590ca0",
   "metadata": {},
   "outputs": [],
   "source": []
  },
  {
   "cell_type": "code",
   "execution_count": 265,
   "id": "61559393-be8b-4173-8f40-e0bf60958c14",
   "metadata": {},
   "outputs": [
    {
     "ename": "ValueError",
     "evalue": "A given column is not a column of the dataframe",
     "output_type": "error",
     "traceback": [
      "\u001b[0;31m---------------------------------------------------------------------------\u001b[0m",
      "\u001b[0;31mKeyError\u001b[0m                                  Traceback (most recent call last)",
      "\u001b[0;32m~/opt/anaconda3/lib/python3.9/site-packages/pandas/core/indexes/base.py\u001b[0m in \u001b[0;36mget_loc\u001b[0;34m(self, key, method, tolerance)\u001b[0m\n\u001b[1;32m   3628\u001b[0m             \u001b[0;32mtry\u001b[0m\u001b[0;34m:\u001b[0m\u001b[0;34m\u001b[0m\u001b[0;34m\u001b[0m\u001b[0m\n\u001b[0;32m-> 3629\u001b[0;31m                 \u001b[0;32mreturn\u001b[0m \u001b[0mself\u001b[0m\u001b[0;34m.\u001b[0m\u001b[0m_engine\u001b[0m\u001b[0;34m.\u001b[0m\u001b[0mget_loc\u001b[0m\u001b[0;34m(\u001b[0m\u001b[0mcasted_key\u001b[0m\u001b[0;34m)\u001b[0m\u001b[0;34m\u001b[0m\u001b[0;34m\u001b[0m\u001b[0m\n\u001b[0m\u001b[1;32m   3630\u001b[0m             \u001b[0;32mexcept\u001b[0m \u001b[0mKeyError\u001b[0m \u001b[0;32mas\u001b[0m \u001b[0merr\u001b[0m\u001b[0;34m:\u001b[0m\u001b[0;34m\u001b[0m\u001b[0;34m\u001b[0m\u001b[0m\n",
      "\u001b[0;32m~/opt/anaconda3/lib/python3.9/site-packages/pandas/_libs/index.pyx\u001b[0m in \u001b[0;36mpandas._libs.index.IndexEngine.get_loc\u001b[0;34m()\u001b[0m\n",
      "\u001b[0;32m~/opt/anaconda3/lib/python3.9/site-packages/pandas/_libs/index.pyx\u001b[0m in \u001b[0;36mpandas._libs.index.IndexEngine.get_loc\u001b[0;34m()\u001b[0m\n",
      "\u001b[0;32mpandas/_libs/hashtable_class_helper.pxi\u001b[0m in \u001b[0;36mpandas._libs.hashtable.PyObjectHashTable.get_item\u001b[0;34m()\u001b[0m\n",
      "\u001b[0;32mpandas/_libs/hashtable_class_helper.pxi\u001b[0m in \u001b[0;36mpandas._libs.hashtable.PyObjectHashTable.get_item\u001b[0;34m()\u001b[0m\n",
      "\u001b[0;31mKeyError\u001b[0m: 'month'",
      "\nThe above exception was the direct cause of the following exception:\n",
      "\u001b[0;31mKeyError\u001b[0m                                  Traceback (most recent call last)",
      "\u001b[0;32m~/opt/anaconda3/lib/python3.9/site-packages/sklearn/utils/__init__.py\u001b[0m in \u001b[0;36m_get_column_indices\u001b[0;34m(X, key)\u001b[0m\n\u001b[1;32m    432\u001b[0m             \u001b[0;32mfor\u001b[0m \u001b[0mcol\u001b[0m \u001b[0;32min\u001b[0m \u001b[0mcolumns\u001b[0m\u001b[0;34m:\u001b[0m\u001b[0;34m\u001b[0m\u001b[0;34m\u001b[0m\u001b[0m\n\u001b[0;32m--> 433\u001b[0;31m                 \u001b[0mcol_idx\u001b[0m \u001b[0;34m=\u001b[0m \u001b[0mall_columns\u001b[0m\u001b[0;34m.\u001b[0m\u001b[0mget_loc\u001b[0m\u001b[0;34m(\u001b[0m\u001b[0mcol\u001b[0m\u001b[0;34m)\u001b[0m\u001b[0;34m\u001b[0m\u001b[0;34m\u001b[0m\u001b[0m\n\u001b[0m\u001b[1;32m    434\u001b[0m                 \u001b[0;32mif\u001b[0m \u001b[0;32mnot\u001b[0m \u001b[0misinstance\u001b[0m\u001b[0;34m(\u001b[0m\u001b[0mcol_idx\u001b[0m\u001b[0;34m,\u001b[0m \u001b[0mnumbers\u001b[0m\u001b[0;34m.\u001b[0m\u001b[0mIntegral\u001b[0m\u001b[0;34m)\u001b[0m\u001b[0;34m:\u001b[0m\u001b[0;34m\u001b[0m\u001b[0;34m\u001b[0m\u001b[0m\n",
      "\u001b[0;32m~/opt/anaconda3/lib/python3.9/site-packages/pandas/core/indexes/base.py\u001b[0m in \u001b[0;36mget_loc\u001b[0;34m(self, key, method, tolerance)\u001b[0m\n\u001b[1;32m   3630\u001b[0m             \u001b[0;32mexcept\u001b[0m \u001b[0mKeyError\u001b[0m \u001b[0;32mas\u001b[0m \u001b[0merr\u001b[0m\u001b[0;34m:\u001b[0m\u001b[0;34m\u001b[0m\u001b[0;34m\u001b[0m\u001b[0m\n\u001b[0;32m-> 3631\u001b[0;31m                 \u001b[0;32mraise\u001b[0m \u001b[0mKeyError\u001b[0m\u001b[0;34m(\u001b[0m\u001b[0mkey\u001b[0m\u001b[0;34m)\u001b[0m \u001b[0;32mfrom\u001b[0m \u001b[0merr\u001b[0m\u001b[0;34m\u001b[0m\u001b[0;34m\u001b[0m\u001b[0m\n\u001b[0m\u001b[1;32m   3632\u001b[0m             \u001b[0;32mexcept\u001b[0m \u001b[0mTypeError\u001b[0m\u001b[0;34m:\u001b[0m\u001b[0;34m\u001b[0m\u001b[0;34m\u001b[0m\u001b[0m\n",
      "\u001b[0;31mKeyError\u001b[0m: 'month'",
      "\nThe above exception was the direct cause of the following exception:\n",
      "\u001b[0;31mValueError\u001b[0m                                Traceback (most recent call last)",
      "\u001b[0;32m/var/folders/4v/k7csrcpx6qb36th08xz06g600000gn/T/ipykernel_86304/657308981.py\u001b[0m in \u001b[0;36m<module>\u001b[0;34m\u001b[0m\n\u001b[1;32m      8\u001b[0m \u001b[0;34m\u001b[0m\u001b[0m\n\u001b[1;32m      9\u001b[0m \u001b[0;31m# Fit and transform\u001b[0m\u001b[0;34m\u001b[0m\u001b[0;34m\u001b[0m\u001b[0m\n\u001b[0;32m---> 10\u001b[0;31m \u001b[0mX_transformed\u001b[0m \u001b[0;34m=\u001b[0m \u001b[0mcolumn_trans\u001b[0m\u001b[0;34m.\u001b[0m\u001b[0mfit_transform\u001b[0m\u001b[0;34m(\u001b[0m\u001b[0mX\u001b[0m\u001b[0;34m)\u001b[0m\u001b[0;34m\u001b[0m\u001b[0;34m\u001b[0m\u001b[0m\n\u001b[0m\u001b[1;32m     11\u001b[0m \u001b[0;34m\u001b[0m\u001b[0m\n\u001b[1;32m     12\u001b[0m \u001b[0;31m# Get the feature names for the transformed columns\u001b[0m\u001b[0;34m\u001b[0m\u001b[0;34m\u001b[0m\u001b[0m\n",
      "\u001b[0;32m~/opt/anaconda3/lib/python3.9/site-packages/sklearn/compose/_column_transformer.py\u001b[0m in \u001b[0;36mfit_transform\u001b[0;34m(self, X, y)\u001b[0m\n\u001b[1;32m    670\u001b[0m         \u001b[0mself\u001b[0m\u001b[0;34m.\u001b[0m\u001b[0m_check_n_features\u001b[0m\u001b[0;34m(\u001b[0m\u001b[0mX\u001b[0m\u001b[0;34m,\u001b[0m \u001b[0mreset\u001b[0m\u001b[0;34m=\u001b[0m\u001b[0;32mTrue\u001b[0m\u001b[0;34m)\u001b[0m\u001b[0;34m\u001b[0m\u001b[0;34m\u001b[0m\u001b[0m\n\u001b[1;32m    671\u001b[0m         \u001b[0mself\u001b[0m\u001b[0;34m.\u001b[0m\u001b[0m_validate_transformers\u001b[0m\u001b[0;34m(\u001b[0m\u001b[0;34m)\u001b[0m\u001b[0;34m\u001b[0m\u001b[0;34m\u001b[0m\u001b[0m\n\u001b[0;32m--> 672\u001b[0;31m         \u001b[0mself\u001b[0m\u001b[0;34m.\u001b[0m\u001b[0m_validate_column_callables\u001b[0m\u001b[0;34m(\u001b[0m\u001b[0mX\u001b[0m\u001b[0;34m)\u001b[0m\u001b[0;34m\u001b[0m\u001b[0;34m\u001b[0m\u001b[0m\n\u001b[0m\u001b[1;32m    673\u001b[0m         \u001b[0mself\u001b[0m\u001b[0;34m.\u001b[0m\u001b[0m_validate_remainder\u001b[0m\u001b[0;34m(\u001b[0m\u001b[0mX\u001b[0m\u001b[0;34m)\u001b[0m\u001b[0;34m\u001b[0m\u001b[0;34m\u001b[0m\u001b[0m\n\u001b[1;32m    674\u001b[0m \u001b[0;34m\u001b[0m\u001b[0m\n",
      "\u001b[0;32m~/opt/anaconda3/lib/python3.9/site-packages/sklearn/compose/_column_transformer.py\u001b[0m in \u001b[0;36m_validate_column_callables\u001b[0;34m(self, X)\u001b[0m\n\u001b[1;32m    350\u001b[0m                 \u001b[0mcolumns\u001b[0m \u001b[0;34m=\u001b[0m \u001b[0mcolumns\u001b[0m\u001b[0;34m(\u001b[0m\u001b[0mX\u001b[0m\u001b[0;34m)\u001b[0m\u001b[0;34m\u001b[0m\u001b[0;34m\u001b[0m\u001b[0m\n\u001b[1;32m    351\u001b[0m             \u001b[0mall_columns\u001b[0m\u001b[0;34m.\u001b[0m\u001b[0mappend\u001b[0m\u001b[0;34m(\u001b[0m\u001b[0mcolumns\u001b[0m\u001b[0;34m)\u001b[0m\u001b[0;34m\u001b[0m\u001b[0;34m\u001b[0m\u001b[0m\n\u001b[0;32m--> 352\u001b[0;31m             \u001b[0mtransformer_to_input_indices\u001b[0m\u001b[0;34m[\u001b[0m\u001b[0mname\u001b[0m\u001b[0;34m]\u001b[0m \u001b[0;34m=\u001b[0m \u001b[0m_get_column_indices\u001b[0m\u001b[0;34m(\u001b[0m\u001b[0mX\u001b[0m\u001b[0;34m,\u001b[0m \u001b[0mcolumns\u001b[0m\u001b[0;34m)\u001b[0m\u001b[0;34m\u001b[0m\u001b[0;34m\u001b[0m\u001b[0m\n\u001b[0m\u001b[1;32m    353\u001b[0m \u001b[0;34m\u001b[0m\u001b[0m\n\u001b[1;32m    354\u001b[0m         \u001b[0mself\u001b[0m\u001b[0;34m.\u001b[0m\u001b[0m_columns\u001b[0m \u001b[0;34m=\u001b[0m \u001b[0mall_columns\u001b[0m\u001b[0;34m\u001b[0m\u001b[0;34m\u001b[0m\u001b[0m\n",
      "\u001b[0;32m~/opt/anaconda3/lib/python3.9/site-packages/sklearn/utils/__init__.py\u001b[0m in \u001b[0;36m_get_column_indices\u001b[0;34m(X, key)\u001b[0m\n\u001b[1;32m    439\u001b[0m \u001b[0;34m\u001b[0m\u001b[0m\n\u001b[1;32m    440\u001b[0m         \u001b[0;32mexcept\u001b[0m \u001b[0mKeyError\u001b[0m \u001b[0;32mas\u001b[0m \u001b[0me\u001b[0m\u001b[0;34m:\u001b[0m\u001b[0;34m\u001b[0m\u001b[0;34m\u001b[0m\u001b[0m\n\u001b[0;32m--> 441\u001b[0;31m             \u001b[0;32mraise\u001b[0m \u001b[0mValueError\u001b[0m\u001b[0;34m(\u001b[0m\u001b[0;34m\"A given column is not a column of the dataframe\"\u001b[0m\u001b[0;34m)\u001b[0m \u001b[0;32mfrom\u001b[0m \u001b[0me\u001b[0m\u001b[0;34m\u001b[0m\u001b[0;34m\u001b[0m\u001b[0m\n\u001b[0m\u001b[1;32m    442\u001b[0m \u001b[0;34m\u001b[0m\u001b[0m\n\u001b[1;32m    443\u001b[0m         \u001b[0;32mreturn\u001b[0m \u001b[0mcolumn_indices\u001b[0m\u001b[0;34m\u001b[0m\u001b[0;34m\u001b[0m\u001b[0m\n",
      "\u001b[0;31mValueError\u001b[0m: A given column is not a column of the dataframe"
     ]
    }
   ],
   "source": [
    "# Define the transformer\n",
    "column_trans = ColumnTransformer(\n",
    "    transformers=[\n",
    "        ('encoder', OneHotEncoder(), [\"month\"])\n",
    "    ],\n",
    "    remainder='passthrough'\n",
    ")\n",
    "\n",
    "# Fit and transform\n",
    "X_transformed = column_trans.fit_transform(X)\n",
    "\n",
    "# Get the feature names for the transformed columns\n",
    "transformed_feature_names = list(column_trans.named_transformers_['encoder'].get_feature_names_out(['month']))\n",
    "\n",
    "# Combine feature names and remaining column names\n",
    "all_column_names = transformed_feature_names + list(X.columns.drop([\"month\"]))\n",
    "\n",
    "# Create a DataFrame with the transformed data and column names\n",
    "X_transformed_df = pd.DataFrame(X_transformed, columns=all_column_names)"
   ]
  },
  {
   "cell_type": "code",
   "execution_count": 264,
   "id": "56181046-a3f4-48fc-be7f-e15f7599c149",
   "metadata": {},
   "outputs": [
    {
     "ename": "ValueError",
     "evalue": "A given column is not a column of the dataframe",
     "output_type": "error",
     "traceback": [
      "\u001b[0;31m---------------------------------------------------------------------------\u001b[0m",
      "\u001b[0;31mKeyError\u001b[0m                                  Traceback (most recent call last)",
      "\u001b[0;32m~/opt/anaconda3/lib/python3.9/site-packages/pandas/core/indexes/base.py\u001b[0m in \u001b[0;36mget_loc\u001b[0;34m(self, key, method, tolerance)\u001b[0m\n\u001b[1;32m   3628\u001b[0m             \u001b[0;32mtry\u001b[0m\u001b[0;34m:\u001b[0m\u001b[0;34m\u001b[0m\u001b[0;34m\u001b[0m\u001b[0m\n\u001b[0;32m-> 3629\u001b[0;31m                 \u001b[0;32mreturn\u001b[0m \u001b[0mself\u001b[0m\u001b[0;34m.\u001b[0m\u001b[0m_engine\u001b[0m\u001b[0;34m.\u001b[0m\u001b[0mget_loc\u001b[0m\u001b[0;34m(\u001b[0m\u001b[0mcasted_key\u001b[0m\u001b[0;34m)\u001b[0m\u001b[0;34m\u001b[0m\u001b[0;34m\u001b[0m\u001b[0m\n\u001b[0m\u001b[1;32m   3630\u001b[0m             \u001b[0;32mexcept\u001b[0m \u001b[0mKeyError\u001b[0m \u001b[0;32mas\u001b[0m \u001b[0merr\u001b[0m\u001b[0;34m:\u001b[0m\u001b[0;34m\u001b[0m\u001b[0;34m\u001b[0m\u001b[0m\n",
      "\u001b[0;32m~/opt/anaconda3/lib/python3.9/site-packages/pandas/_libs/index.pyx\u001b[0m in \u001b[0;36mpandas._libs.index.IndexEngine.get_loc\u001b[0;34m()\u001b[0m\n",
      "\u001b[0;32m~/opt/anaconda3/lib/python3.9/site-packages/pandas/_libs/index.pyx\u001b[0m in \u001b[0;36mpandas._libs.index.IndexEngine.get_loc\u001b[0;34m()\u001b[0m\n",
      "\u001b[0;32mpandas/_libs/hashtable_class_helper.pxi\u001b[0m in \u001b[0;36mpandas._libs.hashtable.PyObjectHashTable.get_item\u001b[0;34m()\u001b[0m\n",
      "\u001b[0;32mpandas/_libs/hashtable_class_helper.pxi\u001b[0m in \u001b[0;36mpandas._libs.hashtable.PyObjectHashTable.get_item\u001b[0;34m()\u001b[0m\n",
      "\u001b[0;31mKeyError\u001b[0m: 'month'",
      "\nThe above exception was the direct cause of the following exception:\n",
      "\u001b[0;31mKeyError\u001b[0m                                  Traceback (most recent call last)",
      "\u001b[0;32m~/opt/anaconda3/lib/python3.9/site-packages/sklearn/utils/__init__.py\u001b[0m in \u001b[0;36m_get_column_indices\u001b[0;34m(X, key)\u001b[0m\n\u001b[1;32m    432\u001b[0m             \u001b[0;32mfor\u001b[0m \u001b[0mcol\u001b[0m \u001b[0;32min\u001b[0m \u001b[0mcolumns\u001b[0m\u001b[0;34m:\u001b[0m\u001b[0;34m\u001b[0m\u001b[0;34m\u001b[0m\u001b[0m\n\u001b[0;32m--> 433\u001b[0;31m                 \u001b[0mcol_idx\u001b[0m \u001b[0;34m=\u001b[0m \u001b[0mall_columns\u001b[0m\u001b[0;34m.\u001b[0m\u001b[0mget_loc\u001b[0m\u001b[0;34m(\u001b[0m\u001b[0mcol\u001b[0m\u001b[0;34m)\u001b[0m\u001b[0;34m\u001b[0m\u001b[0;34m\u001b[0m\u001b[0m\n\u001b[0m\u001b[1;32m    434\u001b[0m                 \u001b[0;32mif\u001b[0m \u001b[0;32mnot\u001b[0m \u001b[0misinstance\u001b[0m\u001b[0;34m(\u001b[0m\u001b[0mcol_idx\u001b[0m\u001b[0;34m,\u001b[0m \u001b[0mnumbers\u001b[0m\u001b[0;34m.\u001b[0m\u001b[0mIntegral\u001b[0m\u001b[0;34m)\u001b[0m\u001b[0;34m:\u001b[0m\u001b[0;34m\u001b[0m\u001b[0;34m\u001b[0m\u001b[0m\n",
      "\u001b[0;32m~/opt/anaconda3/lib/python3.9/site-packages/pandas/core/indexes/base.py\u001b[0m in \u001b[0;36mget_loc\u001b[0;34m(self, key, method, tolerance)\u001b[0m\n\u001b[1;32m   3630\u001b[0m             \u001b[0;32mexcept\u001b[0m \u001b[0mKeyError\u001b[0m \u001b[0;32mas\u001b[0m \u001b[0merr\u001b[0m\u001b[0;34m:\u001b[0m\u001b[0;34m\u001b[0m\u001b[0;34m\u001b[0m\u001b[0m\n\u001b[0;32m-> 3631\u001b[0;31m                 \u001b[0;32mraise\u001b[0m \u001b[0mKeyError\u001b[0m\u001b[0;34m(\u001b[0m\u001b[0mkey\u001b[0m\u001b[0;34m)\u001b[0m \u001b[0;32mfrom\u001b[0m \u001b[0merr\u001b[0m\u001b[0;34m\u001b[0m\u001b[0;34m\u001b[0m\u001b[0m\n\u001b[0m\u001b[1;32m   3632\u001b[0m             \u001b[0;32mexcept\u001b[0m \u001b[0mTypeError\u001b[0m\u001b[0;34m:\u001b[0m\u001b[0;34m\u001b[0m\u001b[0;34m\u001b[0m\u001b[0m\n",
      "\u001b[0;31mKeyError\u001b[0m: 'month'",
      "\nThe above exception was the direct cause of the following exception:\n",
      "\u001b[0;31mValueError\u001b[0m                                Traceback (most recent call last)",
      "\u001b[0;32m/var/folders/4v/k7csrcpx6qb36th08xz06g600000gn/T/ipykernel_86304/4130874892.py\u001b[0m in \u001b[0;36m<module>\u001b[0;34m\u001b[0m\n\u001b[1;32m      8\u001b[0m \u001b[0;34m\u001b[0m\u001b[0m\n\u001b[1;32m      9\u001b[0m \u001b[0;31m# Fit and transform\u001b[0m\u001b[0;34m\u001b[0m\u001b[0;34m\u001b[0m\u001b[0m\n\u001b[0;32m---> 10\u001b[0;31m \u001b[0mX_transformed\u001b[0m \u001b[0;34m=\u001b[0m \u001b[0mcolumn_trans\u001b[0m\u001b[0;34m.\u001b[0m\u001b[0mfit_transform\u001b[0m\u001b[0;34m(\u001b[0m\u001b[0mX\u001b[0m\u001b[0;34m)\u001b[0m\u001b[0;34m\u001b[0m\u001b[0;34m\u001b[0m\u001b[0m\n\u001b[0m\u001b[1;32m     11\u001b[0m \u001b[0;34m\u001b[0m\u001b[0m\n\u001b[1;32m     12\u001b[0m \u001b[0;31m# Get the feature names for the transformed columns\u001b[0m\u001b[0;34m\u001b[0m\u001b[0;34m\u001b[0m\u001b[0m\n",
      "\u001b[0;32m~/opt/anaconda3/lib/python3.9/site-packages/sklearn/compose/_column_transformer.py\u001b[0m in \u001b[0;36mfit_transform\u001b[0;34m(self, X, y)\u001b[0m\n\u001b[1;32m    670\u001b[0m         \u001b[0mself\u001b[0m\u001b[0;34m.\u001b[0m\u001b[0m_check_n_features\u001b[0m\u001b[0;34m(\u001b[0m\u001b[0mX\u001b[0m\u001b[0;34m,\u001b[0m \u001b[0mreset\u001b[0m\u001b[0;34m=\u001b[0m\u001b[0;32mTrue\u001b[0m\u001b[0;34m)\u001b[0m\u001b[0;34m\u001b[0m\u001b[0;34m\u001b[0m\u001b[0m\n\u001b[1;32m    671\u001b[0m         \u001b[0mself\u001b[0m\u001b[0;34m.\u001b[0m\u001b[0m_validate_transformers\u001b[0m\u001b[0;34m(\u001b[0m\u001b[0;34m)\u001b[0m\u001b[0;34m\u001b[0m\u001b[0;34m\u001b[0m\u001b[0m\n\u001b[0;32m--> 672\u001b[0;31m         \u001b[0mself\u001b[0m\u001b[0;34m.\u001b[0m\u001b[0m_validate_column_callables\u001b[0m\u001b[0;34m(\u001b[0m\u001b[0mX\u001b[0m\u001b[0;34m)\u001b[0m\u001b[0;34m\u001b[0m\u001b[0;34m\u001b[0m\u001b[0m\n\u001b[0m\u001b[1;32m    673\u001b[0m         \u001b[0mself\u001b[0m\u001b[0;34m.\u001b[0m\u001b[0m_validate_remainder\u001b[0m\u001b[0;34m(\u001b[0m\u001b[0mX\u001b[0m\u001b[0;34m)\u001b[0m\u001b[0;34m\u001b[0m\u001b[0;34m\u001b[0m\u001b[0m\n\u001b[1;32m    674\u001b[0m \u001b[0;34m\u001b[0m\u001b[0m\n",
      "\u001b[0;32m~/opt/anaconda3/lib/python3.9/site-packages/sklearn/compose/_column_transformer.py\u001b[0m in \u001b[0;36m_validate_column_callables\u001b[0;34m(self, X)\u001b[0m\n\u001b[1;32m    350\u001b[0m                 \u001b[0mcolumns\u001b[0m \u001b[0;34m=\u001b[0m \u001b[0mcolumns\u001b[0m\u001b[0;34m(\u001b[0m\u001b[0mX\u001b[0m\u001b[0;34m)\u001b[0m\u001b[0;34m\u001b[0m\u001b[0;34m\u001b[0m\u001b[0m\n\u001b[1;32m    351\u001b[0m             \u001b[0mall_columns\u001b[0m\u001b[0;34m.\u001b[0m\u001b[0mappend\u001b[0m\u001b[0;34m(\u001b[0m\u001b[0mcolumns\u001b[0m\u001b[0;34m)\u001b[0m\u001b[0;34m\u001b[0m\u001b[0;34m\u001b[0m\u001b[0m\n\u001b[0;32m--> 352\u001b[0;31m             \u001b[0mtransformer_to_input_indices\u001b[0m\u001b[0;34m[\u001b[0m\u001b[0mname\u001b[0m\u001b[0;34m]\u001b[0m \u001b[0;34m=\u001b[0m \u001b[0m_get_column_indices\u001b[0m\u001b[0;34m(\u001b[0m\u001b[0mX\u001b[0m\u001b[0;34m,\u001b[0m \u001b[0mcolumns\u001b[0m\u001b[0;34m)\u001b[0m\u001b[0;34m\u001b[0m\u001b[0;34m\u001b[0m\u001b[0m\n\u001b[0m\u001b[1;32m    353\u001b[0m \u001b[0;34m\u001b[0m\u001b[0m\n\u001b[1;32m    354\u001b[0m         \u001b[0mself\u001b[0m\u001b[0;34m.\u001b[0m\u001b[0m_columns\u001b[0m \u001b[0;34m=\u001b[0m \u001b[0mall_columns\u001b[0m\u001b[0;34m\u001b[0m\u001b[0;34m\u001b[0m\u001b[0m\n",
      "\u001b[0;32m~/opt/anaconda3/lib/python3.9/site-packages/sklearn/utils/__init__.py\u001b[0m in \u001b[0;36m_get_column_indices\u001b[0;34m(X, key)\u001b[0m\n\u001b[1;32m    439\u001b[0m \u001b[0;34m\u001b[0m\u001b[0m\n\u001b[1;32m    440\u001b[0m         \u001b[0;32mexcept\u001b[0m \u001b[0mKeyError\u001b[0m \u001b[0;32mas\u001b[0m \u001b[0me\u001b[0m\u001b[0;34m:\u001b[0m\u001b[0;34m\u001b[0m\u001b[0;34m\u001b[0m\u001b[0m\n\u001b[0;32m--> 441\u001b[0;31m             \u001b[0;32mraise\u001b[0m \u001b[0mValueError\u001b[0m\u001b[0;34m(\u001b[0m\u001b[0;34m\"A given column is not a column of the dataframe\"\u001b[0m\u001b[0;34m)\u001b[0m \u001b[0;32mfrom\u001b[0m \u001b[0me\u001b[0m\u001b[0;34m\u001b[0m\u001b[0;34m\u001b[0m\u001b[0m\n\u001b[0m\u001b[1;32m    442\u001b[0m \u001b[0;34m\u001b[0m\u001b[0m\n\u001b[1;32m    443\u001b[0m         \u001b[0;32mreturn\u001b[0m \u001b[0mcolumn_indices\u001b[0m\u001b[0;34m\u001b[0m\u001b[0;34m\u001b[0m\u001b[0m\n",
      "\u001b[0;31mValueError\u001b[0m: A given column is not a column of the dataframe"
     ]
    }
   ],
   "source": [
    "# Define the transformer\n",
    "column_trans = ColumnTransformer(\n",
    "    transformers=[\n",
    "        ('encoder', OneHotEncoder(), [\"month\", \"year\"])\n",
    "    ],\n",
    "    remainder='passthrough'\n",
    ")\n",
    "\n",
    "# Fit and transform\n",
    "X_transformed = column_trans.fit_transform(X)\n",
    "\n",
    "# Get the feature names for the transformed columns\n",
    "transformed_feature_names = list(column_trans.named_transformers_['encoder'].get_feature_names_out(['month', 'year']))\n",
    "\n",
    "# Combine feature names and remaining column names\n",
    "all_column_names = transformed_feature_names + list(X.columns.drop([\"month\", \"year\"]))\n",
    "\n",
    "# Create a DataFrame with the transformed data and column names\n",
    "X_transformed_df = pd.DataFrame(X_transformed, columns=all_column_names)"
   ]
  },
  {
   "cell_type": "code",
   "execution_count": 272,
   "id": "99163f5c-6a51-4980-94ab-797717d065d6",
   "metadata": {},
   "outputs": [
    {
     "data": {
      "text/html": [
       "<div>\n",
       "<style scoped>\n",
       "    .dataframe tbody tr th:only-of-type {\n",
       "        vertical-align: middle;\n",
       "    }\n",
       "\n",
       "    .dataframe tbody tr th {\n",
       "        vertical-align: top;\n",
       "    }\n",
       "\n",
       "    .dataframe thead th {\n",
       "        text-align: right;\n",
       "    }\n",
       "</style>\n",
       "<table border=\"1\" class=\"dataframe\">\n",
       "  <thead>\n",
       "    <tr style=\"text-align: right;\">\n",
       "      <th></th>\n",
       "      <th>luse5</th>\n",
       "      <th>luse6</th>\n",
       "      <th>children</th>\n",
       "      <th>hhsize2</th>\n",
       "      <th>hhsize3</th>\n",
       "      <th>hhsize4</th>\n",
       "      <th>hhsize5</th>\n",
       "      <th>hhsize5plus</th>\n",
       "      <th>income2</th>\n",
       "      <th>income3</th>\n",
       "      <th>income4</th>\n",
       "      <th>income5</th>\n",
       "      <th>income6</th>\n",
       "      <th>income7</th>\n",
       "      <th>income8</th>\n",
       "      <th>income9</th>\n",
       "      <th>owner</th>\n",
       "    </tr>\n",
       "  </thead>\n",
       "  <tbody>\n",
       "    <tr>\n",
       "      <th>80640</th>\n",
       "      <td>5.835415</td>\n",
       "      <td>5.801180</td>\n",
       "      <td>0.0</td>\n",
       "      <td>1</td>\n",
       "      <td>0</td>\n",
       "      <td>0</td>\n",
       "      <td>0</td>\n",
       "      <td>0</td>\n",
       "      <td>0.0</td>\n",
       "      <td>0.0</td>\n",
       "      <td>0.0</td>\n",
       "      <td>0.0</td>\n",
       "      <td>0.0</td>\n",
       "      <td>1.0</td>\n",
       "      <td>0.0</td>\n",
       "      <td>0.0</td>\n",
       "      <td>1.0</td>\n",
       "    </tr>\n",
       "    <tr>\n",
       "      <th>80641</th>\n",
       "      <td>5.835415</td>\n",
       "      <td>5.801180</td>\n",
       "      <td>0.0</td>\n",
       "      <td>1</td>\n",
       "      <td>0</td>\n",
       "      <td>0</td>\n",
       "      <td>0</td>\n",
       "      <td>0</td>\n",
       "      <td>0.0</td>\n",
       "      <td>0.0</td>\n",
       "      <td>0.0</td>\n",
       "      <td>0.0</td>\n",
       "      <td>0.0</td>\n",
       "      <td>1.0</td>\n",
       "      <td>0.0</td>\n",
       "      <td>0.0</td>\n",
       "      <td>1.0</td>\n",
       "    </tr>\n",
       "    <tr>\n",
       "      <th>80642</th>\n",
       "      <td>5.835415</td>\n",
       "      <td>5.801180</td>\n",
       "      <td>0.0</td>\n",
       "      <td>1</td>\n",
       "      <td>0</td>\n",
       "      <td>0</td>\n",
       "      <td>0</td>\n",
       "      <td>0</td>\n",
       "      <td>0.0</td>\n",
       "      <td>0.0</td>\n",
       "      <td>0.0</td>\n",
       "      <td>0.0</td>\n",
       "      <td>0.0</td>\n",
       "      <td>1.0</td>\n",
       "      <td>0.0</td>\n",
       "      <td>0.0</td>\n",
       "      <td>1.0</td>\n",
       "    </tr>\n",
       "    <tr>\n",
       "      <th>80643</th>\n",
       "      <td>5.835415</td>\n",
       "      <td>5.801180</td>\n",
       "      <td>0.0</td>\n",
       "      <td>1</td>\n",
       "      <td>0</td>\n",
       "      <td>0</td>\n",
       "      <td>0</td>\n",
       "      <td>0</td>\n",
       "      <td>0.0</td>\n",
       "      <td>0.0</td>\n",
       "      <td>0.0</td>\n",
       "      <td>0.0</td>\n",
       "      <td>0.0</td>\n",
       "      <td>1.0</td>\n",
       "      <td>0.0</td>\n",
       "      <td>0.0</td>\n",
       "      <td>1.0</td>\n",
       "    </tr>\n",
       "    <tr>\n",
       "      <th>80644</th>\n",
       "      <td>5.835415</td>\n",
       "      <td>5.801180</td>\n",
       "      <td>0.0</td>\n",
       "      <td>1</td>\n",
       "      <td>0</td>\n",
       "      <td>0</td>\n",
       "      <td>0</td>\n",
       "      <td>0</td>\n",
       "      <td>0.0</td>\n",
       "      <td>0.0</td>\n",
       "      <td>0.0</td>\n",
       "      <td>0.0</td>\n",
       "      <td>0.0</td>\n",
       "      <td>1.0</td>\n",
       "      <td>0.0</td>\n",
       "      <td>0.0</td>\n",
       "      <td>1.0</td>\n",
       "    </tr>\n",
       "    <tr>\n",
       "      <th>...</th>\n",
       "      <td>...</td>\n",
       "      <td>...</td>\n",
       "      <td>...</td>\n",
       "      <td>...</td>\n",
       "      <td>...</td>\n",
       "      <td>...</td>\n",
       "      <td>...</td>\n",
       "      <td>...</td>\n",
       "      <td>...</td>\n",
       "      <td>...</td>\n",
       "      <td>...</td>\n",
       "      <td>...</td>\n",
       "      <td>...</td>\n",
       "      <td>...</td>\n",
       "      <td>...</td>\n",
       "      <td>...</td>\n",
       "      <td>...</td>\n",
       "    </tr>\n",
       "    <tr>\n",
       "      <th>318235</th>\n",
       "      <td>7.011101</td>\n",
       "      <td>6.785274</td>\n",
       "      <td>0.0</td>\n",
       "      <td>1</td>\n",
       "      <td>0</td>\n",
       "      <td>0</td>\n",
       "      <td>0</td>\n",
       "      <td>0</td>\n",
       "      <td>0.0</td>\n",
       "      <td>0.0</td>\n",
       "      <td>0.0</td>\n",
       "      <td>1.0</td>\n",
       "      <td>0.0</td>\n",
       "      <td>0.0</td>\n",
       "      <td>0.0</td>\n",
       "      <td>0.0</td>\n",
       "      <td>1.0</td>\n",
       "    </tr>\n",
       "    <tr>\n",
       "      <th>318236</th>\n",
       "      <td>7.011101</td>\n",
       "      <td>6.785274</td>\n",
       "      <td>0.0</td>\n",
       "      <td>1</td>\n",
       "      <td>0</td>\n",
       "      <td>0</td>\n",
       "      <td>0</td>\n",
       "      <td>0</td>\n",
       "      <td>0.0</td>\n",
       "      <td>0.0</td>\n",
       "      <td>0.0</td>\n",
       "      <td>1.0</td>\n",
       "      <td>0.0</td>\n",
       "      <td>0.0</td>\n",
       "      <td>0.0</td>\n",
       "      <td>0.0</td>\n",
       "      <td>1.0</td>\n",
       "    </tr>\n",
       "    <tr>\n",
       "      <th>318237</th>\n",
       "      <td>7.011101</td>\n",
       "      <td>6.785274</td>\n",
       "      <td>0.0</td>\n",
       "      <td>1</td>\n",
       "      <td>0</td>\n",
       "      <td>0</td>\n",
       "      <td>0</td>\n",
       "      <td>0</td>\n",
       "      <td>0.0</td>\n",
       "      <td>0.0</td>\n",
       "      <td>0.0</td>\n",
       "      <td>1.0</td>\n",
       "      <td>0.0</td>\n",
       "      <td>0.0</td>\n",
       "      <td>0.0</td>\n",
       "      <td>0.0</td>\n",
       "      <td>1.0</td>\n",
       "    </tr>\n",
       "    <tr>\n",
       "      <th>318238</th>\n",
       "      <td>7.011101</td>\n",
       "      <td>6.785274</td>\n",
       "      <td>0.0</td>\n",
       "      <td>1</td>\n",
       "      <td>0</td>\n",
       "      <td>0</td>\n",
       "      <td>0</td>\n",
       "      <td>0</td>\n",
       "      <td>0.0</td>\n",
       "      <td>0.0</td>\n",
       "      <td>0.0</td>\n",
       "      <td>1.0</td>\n",
       "      <td>0.0</td>\n",
       "      <td>0.0</td>\n",
       "      <td>0.0</td>\n",
       "      <td>0.0</td>\n",
       "      <td>1.0</td>\n",
       "    </tr>\n",
       "    <tr>\n",
       "      <th>318239</th>\n",
       "      <td>7.011101</td>\n",
       "      <td>6.785274</td>\n",
       "      <td>0.0</td>\n",
       "      <td>1</td>\n",
       "      <td>0</td>\n",
       "      <td>0</td>\n",
       "      <td>0</td>\n",
       "      <td>0</td>\n",
       "      <td>0.0</td>\n",
       "      <td>0.0</td>\n",
       "      <td>0.0</td>\n",
       "      <td>1.0</td>\n",
       "      <td>0.0</td>\n",
       "      <td>0.0</td>\n",
       "      <td>0.0</td>\n",
       "      <td>0.0</td>\n",
       "      <td>1.0</td>\n",
       "    </tr>\n",
       "  </tbody>\n",
       "</table>\n",
       "<p>224440 rows × 17 columns</p>\n",
       "</div>"
      ],
      "text/plain": [
       "           luse5     luse6  children  hhsize2  hhsize3  hhsize4  hhsize5  \\\n",
       "80640   5.835415  5.801180       0.0        1        0        0        0   \n",
       "80641   5.835415  5.801180       0.0        1        0        0        0   \n",
       "80642   5.835415  5.801180       0.0        1        0        0        0   \n",
       "80643   5.835415  5.801180       0.0        1        0        0        0   \n",
       "80644   5.835415  5.801180       0.0        1        0        0        0   \n",
       "...          ...       ...       ...      ...      ...      ...      ...   \n",
       "318235  7.011101  6.785274       0.0        1        0        0        0   \n",
       "318236  7.011101  6.785274       0.0        1        0        0        0   \n",
       "318237  7.011101  6.785274       0.0        1        0        0        0   \n",
       "318238  7.011101  6.785274       0.0        1        0        0        0   \n",
       "318239  7.011101  6.785274       0.0        1        0        0        0   \n",
       "\n",
       "        hhsize5plus  income2  income3  income4  income5  income6  income7  \\\n",
       "80640             0      0.0      0.0      0.0      0.0      0.0      1.0   \n",
       "80641             0      0.0      0.0      0.0      0.0      0.0      1.0   \n",
       "80642             0      0.0      0.0      0.0      0.0      0.0      1.0   \n",
       "80643             0      0.0      0.0      0.0      0.0      0.0      1.0   \n",
       "80644             0      0.0      0.0      0.0      0.0      0.0      1.0   \n",
       "...             ...      ...      ...      ...      ...      ...      ...   \n",
       "318235            0      0.0      0.0      0.0      1.0      0.0      0.0   \n",
       "318236            0      0.0      0.0      0.0      1.0      0.0      0.0   \n",
       "318237            0      0.0      0.0      0.0      1.0      0.0      0.0   \n",
       "318238            0      0.0      0.0      0.0      1.0      0.0      0.0   \n",
       "318239            0      0.0      0.0      0.0      1.0      0.0      0.0   \n",
       "\n",
       "        income8  income9  owner  \n",
       "80640       0.0      0.0    1.0  \n",
       "80641       0.0      0.0    1.0  \n",
       "80642       0.0      0.0    1.0  \n",
       "80643       0.0      0.0    1.0  \n",
       "80644       0.0      0.0    1.0  \n",
       "...         ...      ...    ...  \n",
       "318235      0.0      0.0    1.0  \n",
       "318236      0.0      0.0    1.0  \n",
       "318237      0.0      0.0    1.0  \n",
       "318238      0.0      0.0    1.0  \n",
       "318239      0.0      0.0    1.0  \n",
       "\n",
       "[224440 rows x 17 columns]"
      ]
     },
     "execution_count": 272,
     "metadata": {},
     "output_type": "execute_result"
    }
   ],
   "source": [
    "X"
   ]
  },
  {
   "cell_type": "code",
   "execution_count": null,
   "id": "7913e25c-4f55-4a69-8863-38a456364dad",
   "metadata": {},
   "outputs": [],
   "source": []
  },
  {
   "cell_type": "code",
   "execution_count": null,
   "id": "b78025fc-0afb-4768-8fec-560254317b60",
   "metadata": {},
   "outputs": [],
   "source": []
  },
  {
   "cell_type": "code",
   "execution_count": null,
   "id": "ac8fe0bd-346b-4148-8a7a-52f86e6ad125",
   "metadata": {},
   "outputs": [],
   "source": []
  },
  {
   "cell_type": "code",
   "execution_count": 101,
   "id": "f3d42fcb-3e86-4ce6-89eb-2c578021d858",
   "metadata": {},
   "outputs": [],
   "source": [
    "preprocessor = ColumnTransformer(\n",
    "    transformers=[\n",
    "        ('scaler', StandardScaler(), columns_to_scale)\n",
    "    ],\n",
    "    remainder='passthrough' \n",
    ")\n",
    "\n",
    "pipeline = Pipeline([\n",
    "    ('preprocessor', preprocessor),\n",
    "    ('model', RandomForestRegressor())\n",
    "])"
   ]
  },
  {
   "cell_type": "code",
   "execution_count": 102,
   "id": "1784c332-b83b-4df1-8ef8-50e1b25dcebd",
   "metadata": {},
   "outputs": [],
   "source": [
    "param_grid = {\n",
    "    'model__n_estimators': [100, 200, 250,275,300],\n",
    "    'model__max_depth': [None, 10, 20, 30],\n",
    "    'model__min_samples_split': [2, 5, 10],\n",
    "    'model__min_samples_leaf': [1, 2, 4],\n",
    "    'model__max_features': ['auto', 'sqrt', 'log2']\n",
    "}\n",
    "\n",
    "# Instantiate GridSearchCV\n",
    "grid_search = GridSearchCV(pipeline, param_grid, cv=5, scoring='neg_mean_squared_error', n_jobs=-1)"
   ]
  },
  {
   "cell_type": "code",
   "execution_count": 273,
   "id": "013b3672-02ce-433d-911b-5fd71e970c2a",
   "metadata": {},
   "outputs": [],
   "source": [
    "X_train, X_test, y_train, y_test = train_test_split(X, y, test_size=0.2, random_state=42)"
   ]
  },
  {
   "cell_type": "code",
   "execution_count": 104,
   "id": "92eb220a-0688-4696-9881-56ba49ae54fb",
   "metadata": {},
   "outputs": [
    {
     "data": {
      "text/plain": [
       "GridSearchCV(cv=5,\n",
       "             estimator=Pipeline(steps=[('preprocessor',\n",
       "                                        ColumnTransformer(remainder='passthrough',\n",
       "                                                          transformers=[('scaler',\n",
       "                                                                         StandardScaler(),\n",
       "                                                                         ['lusage',\n",
       "                                                                          'luse1',\n",
       "                                                                          'luse2',\n",
       "                                                                          'luse3',\n",
       "                                                                          'luse4',\n",
       "                                                                          'luse5',\n",
       "                                                                          'luse6'])])),\n",
       "                                       ('model', RandomForestRegressor())]),\n",
       "             n_jobs=-1,\n",
       "             param_grid={'model__max_depth': [None, 10, 20, 30],\n",
       "                         'model__max_features': ['auto', 'sqrt', 'log2'],\n",
       "                         'model__min_samples_leaf': [1, 2, 4],\n",
       "                         'model__min_samples_split': [2, 5, 10],\n",
       "                         'model__n_estimators': [100, 200, 250, 275, 300]},\n",
       "             scoring='neg_mean_squared_error')"
      ]
     },
     "execution_count": 104,
     "metadata": {},
     "output_type": "execute_result"
    }
   ],
   "source": [
    "grid_search.fit(X_train, y_train)"
   ]
  },
  {
   "cell_type": "code",
   "execution_count": 105,
   "id": "c0f74aa9-fbe4-4c63-a8c3-0366b9797547",
   "metadata": {},
   "outputs": [
    {
     "name": "stdout",
     "output_type": "stream",
     "text": [
      "Mean Squared Error on Test Set: 110.57897238489788\n"
     ]
    }
   ],
   "source": [
    "best_params = grid_search.best_params_\n",
    "best_model = grid_search.best_estimator_\n",
    "\n",
    "# Predict using the best model on the test set\n",
    "y_pred = best_model.predict(X_test)\n",
    "\n",
    "# Evaluate the model performance on the test set\n",
    "mse = mean_squared_error(y_test, y_pred)\n",
    "print(f'Mean Squared Error on Test Set: {mse}')"
   ]
  },
  {
   "cell_type": "code",
   "execution_count": 106,
   "id": "03ff2704-2a1b-479b-b101-d868803e24f7",
   "metadata": {},
   "outputs": [
    {
     "data": {
      "text/plain": [
       "{'model__max_depth': 30,\n",
       " 'model__max_features': 'auto',\n",
       " 'model__min_samples_leaf': 1,\n",
       " 'model__min_samples_split': 2,\n",
       " 'model__n_estimators': 300}"
      ]
     },
     "execution_count": 106,
     "metadata": {},
     "output_type": "execute_result"
    }
   ],
   "source": [
    "best_params"
   ]
  },
  {
   "cell_type": "code",
   "execution_count": 253,
   "id": "94ceaee0-7861-4bd7-9fc0-caac4a26a0cf",
   "metadata": {},
   "outputs": [
    {
     "data": {
      "text/plain": [
       "array([[-0.49956137, -0.49956137, -0.50087529, ..., -0.23885672,\n",
       "        -0.17716214, -2.31436233],\n",
       "       [-0.49956137,  2.00175606, -0.50087529, ..., -0.23885672,\n",
       "        -0.17716214,  0.43208446],\n",
       "       [-0.49956137,  2.00175606, -0.50087529, ..., -0.23885672,\n",
       "        -0.17716214,  0.43208446],\n",
       "       ...,\n",
       "       [-0.49956137, -0.49956137,  1.99650496, ..., -0.23885672,\n",
       "        -0.17716214,  0.43208446],\n",
       "       [-0.49956137, -0.49956137,  1.99650496, ..., -0.23885672,\n",
       "        -0.17716214, -2.31436233],\n",
       "       [-0.49956137, -0.49956137, -0.50087529, ..., -0.23885672,\n",
       "        -0.17716214,  0.43208446]])"
      ]
     },
     "execution_count": 253,
     "metadata": {},
     "output_type": "execute_result"
    }
   ],
   "source": [
    "X_train_scaled"
   ]
  },
  {
   "cell_type": "code",
   "execution_count": 249,
   "id": "4fa99263-5bd1-46db-b8e3-d70d04d2c882",
   "metadata": {},
   "outputs": [],
   "source": [
    "# Standardize features\n",
    "sc_X = StandardScaler()\n",
    "X_train_scaled = sc_X.fit_transform(X_train)\n",
    "X_test_scaled = sc_X.transform(X_test)\n",
    "\n",
    "# Standardize target variable\n",
    "sc_y = StandardScaler()\n",
    "y_train_scaled = sc_y.fit_transform(np.array(y_train).reshape(-1, 1)).ravel()\n",
    "y_test_scaled = sc_y.transform(np.array(y_test).reshape(-1, 1)).ravel()"
   ]
  },
  {
   "cell_type": "code",
   "execution_count": 250,
   "id": "5682b865-5326-417a-80c3-a7ee4fba35b4",
   "metadata": {},
   "outputs": [
    {
     "data": {
      "text/plain": [
       "RandomForestRegressor(max_depth=30, n_estimators=300, random_state=0)"
      ]
     },
     "execution_count": 250,
     "metadata": {},
     "output_type": "execute_result"
    }
   ],
   "source": [
    "model = RandomForestRegressor(max_depth = 30,max_features = 'auto',min_samples_leaf = 1,min_samples_split = 2,n_estimators = 300, random_state = 0)\n",
    "model.fit(X_train_scaled, y_train_scaled )\n",
    "\n",
    "# Predict on the test set\n",
    "y_pred = model.predict(X_test_scaled)\n",
    "\n",
    "# Evaluate model performance\n",
    "mse = mean_squared_error(y_test_scaled, y_pred)\n",
    "print(f'Mean Squared Error: {mse}')"
   ]
  },
  {
   "cell_type": "code",
   "execution_count": 251,
   "id": "d07eb990-780b-4c6d-b1f7-2df51dcc437a",
   "metadata": {},
   "outputs": [
    {
     "name": "stdout",
     "output_type": "stream",
     "text": [
      "Mean Squared Error: 6.067623574805429e-06\n"
     ]
    }
   ],
   "source": [
    "# Predict on the test set\n",
    "y_pred = model.predict(X_test_scaled)\n",
    "\n",
    "# Evaluate model performance\n",
    "mse = mean_squared_error(y_test_scaled, y_pred)\n",
    "print(f'Mean Squared Error: {mse}')"
   ]
  },
  {
   "cell_type": "code",
   "execution_count": 248,
   "id": "cb94be9e-e5ba-4d0e-bea2-1c7a5854b6ee",
   "metadata": {},
   "outputs": [],
   "source": [
    "X_train, X_test, y_train, y_test = train_test_split(X_transformed_df, y, test_size=0.2, random_state=42)"
   ]
  },
  {
   "cell_type": "code",
   "execution_count": 274,
   "id": "32e95426-daf2-446a-8a5f-6e118366a646",
   "metadata": {},
   "outputs": [],
   "source": [
    "# Standardize the selected columns\n",
    "scaler_x = StandardScaler()\n",
    "X_train[columns_to_scale] = scaler_x.fit_transform(X_train[columns_to_scale])\n",
    "X_test[columns_to_scale] = scaler_x.transform(X_test[columns_to_scale])\n",
    "\n",
    "scaler_y = StandardScaler()\n",
    "y_train = scaler_y.fit_transform(np.array(y_train).reshape(-1, 1)).ravel()\n",
    "y_test = scaler_y.transform(np.array(y_test).reshape(-1, 1)).ravel()"
   ]
  },
  {
   "cell_type": "code",
   "execution_count": 275,
   "id": "cdb49e7b-e8f3-4a45-a585-cd8772d57ac1",
   "metadata": {},
   "outputs": [
    {
     "data": {
      "text/plain": [
       "RandomForestRegressor(max_depth=30, n_estimators=300, random_state=0)"
      ]
     },
     "execution_count": 275,
     "metadata": {},
     "output_type": "execute_result"
    }
   ],
   "source": [
    "model = RandomForestRegressor(max_depth = 30,max_features = 'auto',min_samples_leaf = 1,min_samples_split = 2,n_estimators = 300, random_state = 0)\n",
    "model.fit(X_train, y_train)"
   ]
  },
  {
   "cell_type": "code",
   "execution_count": 276,
   "id": "3661cdf1-2c88-41c3-8e67-6d9bfca1d1db",
   "metadata": {},
   "outputs": [
    {
     "name": "stdout",
     "output_type": "stream",
     "text": [
      "Mean Squared Error: 0.0007987742105363771\n"
     ]
    }
   ],
   "source": [
    "# Predict on the test set\n",
    "y_pred = model.predict(X_test)\n",
    "\n",
    "# Evaluate model performance\n",
    "mse = mean_squared_error(y_test, y_pred)\n",
    "print(f'Mean Squared Error: {mse}')"
   ]
  },
  {
   "cell_type": "code",
   "execution_count": 9,
   "id": "655d6a72-3bb7-44a2-9140-71f4cb2cfc11",
   "metadata": {},
   "outputs": [
    {
     "data": {
      "text/plain": [
       "array([3.98400820e-03, 1.23571740e-07, 5.13118454e-07, 1.70313791e-03,\n",
       "       1.95028574e-03, 1.19999883e-04, 3.13243917e-01, 6.97029457e-02,\n",
       "       1.87333840e-01, 1.68564180e-01, 4.88540551e-03, 5.56892603e-03,\n",
       "       4.84323756e-04, 5.68479706e-02, 3.48280758e-04, 2.78076528e-04,\n",
       "       1.60716237e-04, 1.31646631e-04, 1.93649801e-04, 2.70345461e-04,\n",
       "       2.25464180e-04, 1.82567250e-01, 3.84495000e-04, 3.28612360e-04,\n",
       "       1.53892036e-04, 1.38667652e-04, 4.29326028e-04])"
      ]
     },
     "execution_count": 9,
     "metadata": {},
     "output_type": "execute_result"
    }
   ],
   "source": [
    "model.feature_importances_"
   ]
  },
  {
   "cell_type": "code",
   "execution_count": 436,
   "id": "a346a52b-78d4-4b50-b137-d172548af6ad",
   "metadata": {},
   "outputs": [
    {
     "data": {
      "image/png": "[encoded data removed]",
      "text/plain": [
       "<Figure size 640x480 with 1 Axes>"
      ]
     },
     "metadata": {},
     "output_type": "display_data"
    }
   ],
   "source": []
  },
  {
   "cell_type": "code",
   "execution_count": 257,
   "id": "8a84c899-9282-4862-8cc9-05ff1d186222",
   "metadata": {},
   "outputs": [
    {
     "data": {
      "text/plain": [
       "(('luse6',\n",
       "  'hhsize2',\n",
       "  'owner',\n",
       "  'hhsize3',\n",
       "  'children',\n",
       "  'income2',\n",
       "  'hhsize5',\n",
       "  'hhsize4',\n",
       "  'hhsize5plus',\n",
       "  'income3',\n",
       "  'income8',\n",
       "  'income4',\n",
       "  'income9',\n",
       "  'income7',\n",
       "  'income5',\n",
       "  'luse5',\n",
       "  'income6',\n",
       "  'luse2',\n",
       "  'luse4',\n",
       "  'month',\n",
       "  'luse1',\n",
       "  'year',\n",
       "  'lusage',\n",
       "  'luse3'),\n",
       " (0.31445982370455666,\n",
       "  0.18808630074121524,\n",
       "  0.1830758393231896,\n",
       "  0.1691957303433569,\n",
       "  0.0721209597623264,\n",
       "  0.05698696055016691,\n",
       "  0.00613059643280259,\n",
       "  0.00541249810808034,\n",
       "  0.0005830382147751519,\n",
       "  0.0004481753005609058,\n",
       "  0.0003306664992248407,\n",
       "  0.00031980056990013774,\n",
       "  0.00027921942378508443,\n",
       "  0.0002466159075727477,\n",
       "  0.00021158028346322073,\n",
       "  0.0001720363575266127,\n",
       "  0.00016772207681715147,\n",
       "  3.8508408930478153e-07,\n",
       "  3.326344367505906e-07,\n",
       "  2.6840005468275946e-07,\n",
       "  2.3661491967711573e-07,\n",
       "  2.3518350820450153e-07,\n",
       "  1.9003778034354705e-07,\n",
       "  1.8610727031738082e-07))"
      ]
     },
     "execution_count": 257,
     "metadata": {},
     "output_type": "execute_result"
    }
   ],
   "source": [
    "sorted_feature_names,sorted_feature_importances"
   ]
  },
  {
   "cell_type": "code",
   "execution_count": null,
   "id": "03b3195d-75d2-4079-ae91-cc8a35c26d8b",
   "metadata": {},
   "outputs": [],
   "source": [
    "from sklearn.svm import SVR\n",
    "regressor = SVR(kernel = 'rbf')\n",
    "regressor.fit(X, y)"
   ]
  },
  {
   "cell_type": "code",
   "execution_count": null,
   "id": "b76cd134-ec6f-45b6-84a8-282e7bbc6fd2",
   "metadata": {},
   "outputs": [],
   "source": [
    "# Predict on the test set\n",
    "y_pred = regressor.predict(X_test)\n",
    "\n",
    "# Evaluate model performance\n",
    "mse = mean_squared_error(y_test, y_pred)\n",
    "print(f'Mean Squared Error: {mse}')"
   ]
  }
 ],
 "metadata": {
  "kernelspec": {
   "display_name": "Python 3 (ipykernel)",
   "language": "python",
   "name": "python3"
  },
  "language_info": {
   "codemirror_mode": {
    "name": "ipython",
    "version": 3
   },
   "file_extension": ".py",
   "mimetype": "text/x-python",
   "name": "python",
   "nbconvert_exporter": "python",
   "pygments_lexer": "ipython3",
   "version": "3.9.13"
  }
 },
 "nbformat": 4,
 "nbformat_minor": 5
}
